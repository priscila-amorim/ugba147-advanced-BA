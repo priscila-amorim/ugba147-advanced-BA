{
 "cells": [
  {
   "cell_type": "markdown",
   "metadata": {
    "hideCode": false,
    "hidePrompt": false
   },
   "source": [
    "# Special Data Types"
   ]
  },
  {
   "cell_type": "markdown",
   "metadata": {},
   "source": [
    "**Write and execute R code in the code cells per the instructions.  The expected results are provided for you directly following the code cells.**"
   ]
  },
  {
   "cell_type": "code",
   "execution_count": 1,
   "metadata": {},
   "outputs": [
    {
     "data": {
      "text/html": [
       "<p style=\"text-align:center; font-size:10px;\">\n",
       ".................................................... start of document ....................................................\n",
       "</p>"
      ]
     },
     "metadata": {},
     "output_type": "display_data"
    }
   ],
   "source": [
    "f = \"setup.R\"; for (i in 1:10) { if (file.exists(f)) break else f = paste0(\"../\", f) }; source(f)"
   ]
  },
  {
   "cell_type": "markdown",
   "metadata": {},
   "source": [
    "## Problem 1"
   ]
  },
  {
   "cell_type": "markdown",
   "metadata": {},
   "source": [
    "Consider the following corpus and new document:"
   ]
  },
  {
   "cell_type": "code",
   "execution_count": 2,
   "metadata": {},
   "outputs": [
    {
     "data": {
      "text/html": [
       "<table>\n",
       "<thead><tr><th scope=col>comment</th><th scope=col>sentiment</th></tr></thead>\n",
       "<tbody>\n",
       "\t<tr><td>I love this great movie!                              </td><td>favorable                                             </td></tr>\n",
       "\t<tr><td>I was disappointed that this movie wasn't long enough.</td><td>unfavorable                                           </td></tr>\n",
       "\t<tr><td>Way too long.                                         </td><td>unfavorable                                           </td></tr>\n",
       "\t<tr><td>Could not have enjoyed this movie more.               </td><td>favorable                                             </td></tr>\n",
       "\t<tr><td>What a great film.                                    </td><td>favorable                                             </td></tr>\n",
       "</tbody>\n",
       "</table>\n"
      ],
      "text/latex": [
       "\\begin{tabular}{r|ll}\n",
       " comment & sentiment\\\\\n",
       "\\hline\n",
       "\t I love this great movie!                               & favorable                                             \\\\\n",
       "\t I was disappointed that this movie wasn't long enough. & unfavorable                                           \\\\\n",
       "\t Way too long.                                          & unfavorable                                           \\\\\n",
       "\t Could not have enjoyed this movie more.                & favorable                                             \\\\\n",
       "\t What a great film.                                     & favorable                                             \\\\\n",
       "\\end{tabular}\n"
      ],
      "text/markdown": [
       "\n",
       "| comment | sentiment |\n",
       "|---|---|\n",
       "| I love this great movie!                               | favorable                                              |\n",
       "| I was disappointed that this movie wasn't long enough. | unfavorable                                            |\n",
       "| Way too long.                                          | unfavorable                                            |\n",
       "| Could not have enjoyed this movie more.                | favorable                                              |\n",
       "| What a great film.                                     | favorable                                              |\n",
       "\n"
      ],
      "text/plain": [
       "  comment                                                sentiment  \n",
       "1 I love this great movie!                               favorable  \n",
       "2 I was disappointed that this movie wasn't long enough. unfavorable\n",
       "3 Way too long.                                          unfavorable\n",
       "4 Could not have enjoyed this movie more.                favorable  \n",
       "5 What a great film.                                     favorable  "
      ]
     },
     "metadata": {},
     "output_type": "display_data"
    }
   ],
   "source": [
    "data = data.frame(comment=c(\"I love this great movie!\",\n",
    "                            \"I was disappointed that this movie wasn't long enough.\",\n",
    "                            \"Way too long.\",\n",
    "                            \"Could not have enjoyed this movie more.\",\n",
    "                            \"What a great film.\"),\n",
    "                   sentiment=c(\"favorable\", \"unfavorable\", \"unfavorable\", \"favorable\", \"favorable\"))\n",
    "\n",
    "data"
   ]
  },
  {
   "cell_type": "code",
   "execution_count": 3,
   "metadata": {},
   "outputs": [
    {
     "data": {
      "text/html": [
       "<table>\n",
       "<thead><tr><th scope=col>comment</th></tr></thead>\n",
       "<tbody>\n",
       "\t<tr><td>I enjoyed these movies even more than I enjoyed data science.</td></tr>\n",
       "</tbody>\n",
       "</table>\n"
      ],
      "text/latex": [
       "\\begin{tabular}{r|l}\n",
       " comment\\\\\n",
       "\\hline\n",
       "\t I enjoyed these movies even more than I enjoyed data science.\\\\\n",
       "\\end{tabular}\n"
      ],
      "text/markdown": [
       "\n",
       "| comment |\n",
       "|---|\n",
       "| I enjoyed these movies even more than I enjoyed data science. |\n",
       "\n"
      ],
      "text/plain": [
       "  comment                                                      \n",
       "1 I enjoyed these movies even more than I enjoyed data science."
      ]
     },
     "metadata": {},
     "output_type": "display_data"
    }
   ],
   "source": [
    "new = data.frame(comment=\"I enjoyed these movies even more than I enjoyed data science.\")\n",
    "new"
   ]
  },
  {
   "cell_type": "markdown",
   "metadata": {},
   "source": [
    "Simplify the corpus text with these transformations: lower case, remove numbers, remove punctuation, remove special characters, remove stop words, stem, strip whitespace - in that order.  Convert the simplified corpus text to a classified bag of words.  Build a naive Bayes model trained by the classified bag of words to predict sentiment.  Simplify the new unclassified document in the same way that you did the corpus.  Convert the simplified new document text to a bag of words approriate for the model.  Use the model with cutoff 0.5 for favorable to predict the sentiment of the new document."
   ]
  },
  {
   "cell_type": "code",
   "execution_count": 4,
   "metadata": {},
   "outputs": [
    {
     "data": {
      "text/html": [
       "<table>\n",
       "<thead><tr><th scope=col>V1</th></tr></thead>\n",
       "<tbody>\n",
       "\t<tr><td>love great movi                  </td></tr>\n",
       "\t<tr><td>disappoint movi wasnt long enough</td></tr>\n",
       "\t<tr><td>way long                         </td></tr>\n",
       "\t<tr><td>enjoy movi                       </td></tr>\n",
       "\t<tr><td>great film                       </td></tr>\n",
       "</tbody>\n",
       "</table>\n"
      ],
      "text/latex": [
       "\\begin{tabular}{r|l}\n",
       " V1\\\\\n",
       "\\hline\n",
       "\t love great movi                  \\\\\n",
       "\t disappoint movi wasnt long enough\\\\\n",
       "\t way long                         \\\\\n",
       "\t enjoy movi                       \\\\\n",
       "\t great film                       \\\\\n",
       "\\end{tabular}\n"
      ],
      "text/markdown": [
       "\n",
       "| V1 |\n",
       "|---|\n",
       "| love great movi                   |\n",
       "| disappoint movi wasnt long enough |\n",
       "| way long                          |\n",
       "| enjoy movi                        |\n",
       "| great film                        |\n",
       "\n"
      ],
      "text/plain": [
       "  V1                               \n",
       "1 love great movi                  \n",
       "2 disappoint movi wasnt long enough\n",
       "3 way long                         \n",
       "4 enjoy movi                       \n",
       "5 great film                       "
      ]
     },
     "metadata": {},
     "output_type": "display_data"
    }
   ],
   "source": [
    "corpus = VCorpus(VectorSource(data$comment))\n",
    "\n",
    "# lower case\n",
    "corpus = tm_map(corpus, content_transformer(tolower))\n",
    "\n",
    "# remove numbers\n",
    "corpus = tm_map(corpus, removeNumbers)\n",
    "\n",
    "# remove punctuations\n",
    "corpus = tm_map(corpus, removePunctuation, ucp=TRUE)\n",
    "\n",
    "# remove special characters\n",
    "corpus = tm_map(corpus, removeSpecialChars, chars=\"’“”—\")\n",
    "\n",
    "# remove stop words\n",
    "corpus = tm_map(corpus, removeWords, stopwords(\"english\")) # uses dictionary of English stopwords\n",
    "\n",
    "# stem\n",
    "corpus = tm_map(corpus, stemDocument, \"english\")\n",
    "\n",
    "# strip whitespace\n",
    "corpus = tm_map(corpus, stripWhitespace)\n",
    "\n",
    "as.data.frame.content(corpus)"
   ]
  },
  {
   "cell_type": "code",
   "execution_count": 5,
   "metadata": {},
   "outputs": [
    {
     "data": {
      "text/html": [
       "<table>\n",
       "<thead><tr><th scope=col>disappoint</th><th scope=col>enjoy</th><th scope=col>enough</th><th scope=col>film</th><th scope=col>great</th><th scope=col>long</th><th scope=col>love</th><th scope=col>movi</th><th scope=col>wasnt</th><th scope=col>way</th><th scope=col>sentiment</th></tr></thead>\n",
       "<tbody>\n",
       "\t<tr><td>0          </td><td>0          </td><td>0          </td><td>0          </td><td>1          </td><td>0          </td><td>1          </td><td>1          </td><td>0          </td><td>0          </td><td>favorable  </td></tr>\n",
       "\t<tr><td>1          </td><td>0          </td><td>1          </td><td>0          </td><td>0          </td><td>1          </td><td>0          </td><td>1          </td><td>1          </td><td>0          </td><td>unfavorable</td></tr>\n",
       "\t<tr><td>0          </td><td>0          </td><td>0          </td><td>0          </td><td>0          </td><td>1          </td><td>0          </td><td>0          </td><td>0          </td><td>1          </td><td>unfavorable</td></tr>\n",
       "\t<tr><td>0          </td><td>1          </td><td>0          </td><td>0          </td><td>0          </td><td>0          </td><td>0          </td><td>1          </td><td>0          </td><td>0          </td><td>favorable  </td></tr>\n",
       "\t<tr><td>0          </td><td>0          </td><td>0          </td><td>1          </td><td>1          </td><td>0          </td><td>0          </td><td>0          </td><td>0          </td><td>0          </td><td>favorable  </td></tr>\n",
       "</tbody>\n",
       "</table>\n"
      ],
      "text/latex": [
       "\\begin{tabular}{r|lllllllllll}\n",
       " disappoint & enjoy & enough & film & great & long & love & movi & wasnt & way & sentiment\\\\\n",
       "\\hline\n",
       "\t 0           & 0           & 0           & 0           & 1           & 0           & 1           & 1           & 0           & 0           & favorable  \\\\\n",
       "\t 1           & 0           & 1           & 0           & 0           & 1           & 0           & 1           & 1           & 0           & unfavorable\\\\\n",
       "\t 0           & 0           & 0           & 0           & 0           & 1           & 0           & 0           & 0           & 1           & unfavorable\\\\\n",
       "\t 0           & 1           & 0           & 0           & 0           & 0           & 0           & 1           & 0           & 0           & favorable  \\\\\n",
       "\t 0           & 0           & 0           & 1           & 1           & 0           & 0           & 0           & 0           & 0           & favorable  \\\\\n",
       "\\end{tabular}\n"
      ],
      "text/markdown": [
       "\n",
       "| disappoint | enjoy | enough | film | great | long | love | movi | wasnt | way | sentiment |\n",
       "|---|---|---|---|---|---|---|---|---|---|---|\n",
       "| 0           | 0           | 0           | 0           | 1           | 0           | 1           | 1           | 0           | 0           | favorable   |\n",
       "| 1           | 0           | 1           | 0           | 0           | 1           | 0           | 1           | 1           | 0           | unfavorable |\n",
       "| 0           | 0           | 0           | 0           | 0           | 1           | 0           | 0           | 0           | 1           | unfavorable |\n",
       "| 0           | 1           | 0           | 0           | 0           | 0           | 0           | 1           | 0           | 0           | favorable   |\n",
       "| 0           | 0           | 0           | 1           | 1           | 0           | 0           | 0           | 0           | 0           | favorable   |\n",
       "\n"
      ],
      "text/plain": [
       "  disappoint enjoy enough film great long love movi wasnt way sentiment  \n",
       "1 0          0     0      0    1     0    1    1    0     0   favorable  \n",
       "2 1          0     1      0    0     1    0    1    1     0   unfavorable\n",
       "3 0          0     0      0    0     1    0    0    0     1   unfavorable\n",
       "4 0          1     0      0    0     0    0    1    0     0   favorable  \n",
       "5 0          0     0      1    1     0    0    0    0     0   favorable  "
      ]
     },
     "metadata": {},
     "output_type": "display_data"
    }
   ],
   "source": [
    "# show the bag of words\n",
    "dtm = DocumentTermMatrix(corpus)\n",
    "data.t = as.data.frame(as.matrix(dtm))\n",
    "sentiment = data$sentiment\n",
    "data.frame(data.t, sentiment)"
   ]
  },
  {
   "cell_type": "code",
   "execution_count": 6,
   "metadata": {},
   "outputs": [],
   "source": [
    "# Build a naive Bayes model trained by the classified bag of words to predict sentiment\n",
    "model = naiveBayes(sentiment ~ ., data.t)"
   ]
  },
  {
   "cell_type": "code",
   "execution_count": 7,
   "metadata": {},
   "outputs": [
    {
     "data": {
      "text/html": [
       "<table>\n",
       "<thead><tr><th scope=col>V1</th></tr></thead>\n",
       "<tbody>\n",
       "\t<tr><td>enjoy movi even enjoy data scienc</td></tr>\n",
       "</tbody>\n",
       "</table>\n"
      ],
      "text/latex": [
       "\\begin{tabular}{r|l}\n",
       " V1\\\\\n",
       "\\hline\n",
       "\t enjoy movi even enjoy data scienc\\\\\n",
       "\\end{tabular}\n"
      ],
      "text/markdown": [
       "\n",
       "| V1 |\n",
       "|---|\n",
       "| enjoy movi even enjoy data scienc |\n",
       "\n"
      ],
      "text/plain": [
       "  V1                               \n",
       "1 enjoy movi even enjoy data scienc"
      ]
     },
     "metadata": {},
     "output_type": "display_data"
    }
   ],
   "source": [
    "# Simplify the new unclassified document in the same way that you did the corpus\n",
    "corpus.2 = VCorpus(VectorSource(new$comment))\n",
    "\n",
    "# lower case\n",
    "corpus.2 = tm_map(corpus.2, content_transformer(tolower))\n",
    "\n",
    "# remove numbers\n",
    "corpus.2 = tm_map(corpus.2, removeNumbers)\n",
    "\n",
    "# remove punctuations\n",
    "corpus.2 = tm_map(corpus.2, removePunctuation, ucp=TRUE)\n",
    "\n",
    "# remove special characters\n",
    "corpus.2 = tm_map(corpus.2, removeSpecialChars, chars=\"’“”—\")\n",
    "\n",
    "# remove stop words\n",
    "corpus.2 = tm_map(corpus.2, removeWords, stopwords(\"english\")) # uses dictionary of English stopwords\n",
    "\n",
    "# stem\n",
    "corpus.2 = tm_map(corpus.2, stemDocument, \"english\")\n",
    "\n",
    "# strip whitespace\n",
    "corpus.2 = tm_map(corpus.2, stripWhitespace)\n",
    "\n",
    "as.data.frame.content(corpus.2)"
   ]
  },
  {
   "cell_type": "code",
   "execution_count": 8,
   "metadata": {},
   "outputs": [
    {
     "data": {
      "text/html": [
       "<table>\n",
       "<thead><tr><th scope=col>disappoint</th><th scope=col>enjoy</th><th scope=col>enough</th><th scope=col>film</th><th scope=col>great</th><th scope=col>long</th><th scope=col>love</th><th scope=col>movi</th><th scope=col>wasnt</th><th scope=col>way</th></tr></thead>\n",
       "<tbody>\n",
       "\t<tr><td>0</td><td>2</td><td>0</td><td>0</td><td>0</td><td>0</td><td>0</td><td>1</td><td>0</td><td>0</td></tr>\n",
       "</tbody>\n",
       "</table>\n"
      ],
      "text/latex": [
       "\\begin{tabular}{r|llllllllll}\n",
       " disappoint & enjoy & enough & film & great & long & love & movi & wasnt & way\\\\\n",
       "\\hline\n",
       "\t 0 & 2 & 0 & 0 & 0 & 0 & 0 & 1 & 0 & 0\\\\\n",
       "\\end{tabular}\n"
      ],
      "text/markdown": [
       "\n",
       "| disappoint | enjoy | enough | film | great | long | love | movi | wasnt | way |\n",
       "|---|---|---|---|---|---|---|---|---|---|\n",
       "| 0 | 2 | 0 | 0 | 0 | 0 | 0 | 1 | 0 | 0 |\n",
       "\n"
      ],
      "text/plain": [
       "  disappoint enjoy enough film great long love movi wasnt way\n",
       "1 0          2     0      0    0     0    0    1    0     0  "
      ]
     },
     "metadata": {},
     "output_type": "display_data"
    }
   ],
   "source": [
    "# Convert the simplified new document text to a bag of words approriate for the model\n",
    "\n",
    "ntm = DocumentTermMatrix(corpus.2)\n",
    "new.t = as.data.frame(as.matrix(ntm))\n",
    "\n",
    "new.tr = make_columns_agree(new.t, data.t)\n",
    "new.tr"
   ]
  },
  {
   "cell_type": "code",
   "execution_count": 9,
   "metadata": {
    "scrolled": true
   },
   "outputs": [
    {
     "data": {
      "text/html": [
       "<table>\n",
       "<thead><tr><th scope=col>comment</th><th scope=col>sentiment</th></tr></thead>\n",
       "<tbody>\n",
       "\t<tr><td>I enjoyed these movies even more than I enjoyed data science.</td><td>favorable                                                    </td></tr>\n",
       "</tbody>\n",
       "</table>\n"
      ],
      "text/latex": [
       "\\begin{tabular}{r|ll}\n",
       " comment & sentiment\\\\\n",
       "\\hline\n",
       "\t I enjoyed these movies even more than I enjoyed data science. & favorable                                                    \\\\\n",
       "\\end{tabular}\n"
      ],
      "text/markdown": [
       "\n",
       "| comment | sentiment |\n",
       "|---|---|\n",
       "| I enjoyed these movies even more than I enjoyed data science. | favorable                                                     |\n",
       "\n"
      ],
      "text/plain": [
       "  comment                                                       sentiment\n",
       "1 I enjoyed these movies even more than I enjoyed data science. favorable"
      ]
     },
     "metadata": {},
     "output_type": "display_data"
    }
   ],
   "source": [
    "# Use the model with cutoff 0.5 for favorable to predict the sentiment of the new document\n",
    "prediction = predict(model, new.tr)\n",
    "prob1.result = data.frame(new, sentiment=prediction)\n",
    "prob1.result"
   ]
  },
  {
   "cell_type": "markdown",
   "metadata": {},
   "source": [
    "## Problem 2"
   ]
  },
  {
   "cell_type": "markdown",
   "metadata": {},
   "source": [
    "Consider this time series training and testing data:"
   ]
  },
  {
   "cell_type": "code",
   "execution_count": 10,
   "metadata": {
    "hideCode": false,
    "hidePrompt": false,
    "run_control": {
     "marked": false
    }
   },
   "outputs": [
    {
     "data": {
      "image/png": "[encoded data removed]",
      "text/plain": [
       "plot without title"
      ]
     },
     "metadata": {
      "image/png": {
       "height": 360,
       "width": 840
      },
      "text/plain": {
       "height": 360,
       "width": 840
      }
     },
     "output_type": "display_data"
    }
   ],
   "source": [
    "data.train = data.frame(time=1:100, outcome=sin(sin(0.01*(100:1))*(1:100)))\n",
    "data.test = data.frame(time=101:150, outcome=sin(sin(0.01*(150:101))*(101:150)))\n",
    "\n",
    "ggplot() +\n",
    "geom_line(aes(x=time, y=outcome, color=\"train\"), data=data.train) +\n",
    "geom_line(aes(x=time, y=outcome, color=\"test\"), data=data.test) +\n",
    "scale_color_manual(values=PALETTE[c(3,1)])"
   ]
  },
  {
   "cell_type": "markdown",
   "metadata": {},
   "source": [
    "Convert the training data from time series form to cross-sectional form so that you can use it to predict 1 or 2 time steps ahead given a viewpoint, a 15 time step lookback, and a 30 time step lookback.  "
   ]
  },
  {
   "cell_type": "code",
   "execution_count": 11,
   "metadata": {
    "scrolled": true
   },
   "outputs": [
    {
     "data": {
      "text/html": [
       "<table>\n",
       "<thead><tr><th></th><th scope=col>time</th><th scope=col>outcome</th><th scope=col>lookback.15</th><th scope=col>lookback.30</th><th scope=col>lookahead.1</th><th scope=col>lookahead.2</th></tr></thead>\n",
       "<tbody>\n",
       "\t<tr><th scope=row>31</th><td>31         </td><td> 0.9006193 </td><td>-0.51917393</td><td> 0.74562414</td><td> 0.9986915 </td><td> 0.9461015 </td></tr>\n",
       "\t<tr><th scope=row>32</th><td>32         </td><td> 0.9986915 </td><td> 0.09243031</td><td> 0.99487803</td><td> 0.9461015 </td><td> 0.7692235 </td></tr>\n",
       "\t<tr><th scope=row>33</th><td>33         </td><td> 0.9461015 </td><td> 0.65666943</td><td> 0.60526644</td><td> 0.7692235 </td><td> 0.5073086 </td></tr>\n",
       "\t<tr><th scope=row>34</th><td>34         </td><td> 0.7692235 </td><td> 0.97004115</td><td>-0.15729425</td><td> 0.5073086 </td><td> 0.2030169 </td></tr>\n",
       "\t<tr><th scope=row>35</th><td>35         </td><td> 0.5073086 </td><td> 0.93985986</td><td>-0.81594690</td><td> 0.2030169 </td><td>-0.1048895 </td></tr>\n",
       "\t<tr><th scope=row>36</th><td>36         </td><td> 0.2030169 </td><td> 0.59998740</td><td>-0.98590376</td><td>-0.1048895 </td><td>-0.3860559 </td></tr>\n",
       "\t<tr><th scope=row>37</th><td>37         </td><td>-0.1048895 </td><td> 0.08010536</td><td>-0.58936986</td><td>-0.3860559 </td><td>-0.6203765 </td></tr>\n",
       "\t<tr><th scope=row>38</th><td>38         </td><td>-0.3860559 </td><td>-0.45062326</td><td> 0.12941026</td><td>-0.6203765 </td><td>-0.7977472 </td></tr>\n",
       "\t<tr><th scope=row>39</th><td>39         </td><td>-0.6203765 </td><td>-0.84108308</td><td> 0.76897055</td><td>-0.7977472 </td><td>-0.9164805 </td></tr>\n",
       "\t<tr><th scope=row>40</th><td>40         </td><td>-0.7977472 </td><td>-0.99844785</td><td> 0.99915733</td><td>-0.9164805 </td><td>-0.9810899 </td></tr>\n",
       "\t<tr><th scope=row>41</th><td>41         </td><td>-0.9164805 </td><td>-0.90310588</td><td> 0.72303244</td><td>-0.9810899 </td><td>-0.9999952 </td></tr>\n",
       "\t<tr><th scope=row>42</th><td>42         </td><td>-0.9810899 </td><td>-0.60022494</td><td> 0.09975082</td><td>-0.9999952 </td><td>-0.9835080 </td></tr>\n",
       "\t<tr><th scope=row>43</th><td>43         </td><td>-0.9999952 </td><td>-0.17628016</td><td>-0.56036586</td><td>-0.9835080 </td><td>-0.9422755 </td></tr>\n",
       "\t<tr><th scope=row>44</th><td>44         </td><td>-0.9835080 </td><td> 0.26923592</td><td>-0.95681111</td><td>-0.9422755 </td><td>-0.8862236 </td></tr>\n",
       "\t<tr><th scope=row>45</th><td>45         </td><td>-0.9422755 </td><td> 0.64838198</td><td>-0.93157893</td><td>-0.8862236 </td><td>-0.8239516 </td></tr>\n",
       "\t<tr><th scope=row>46</th><td>46         </td><td>-0.8862236 </td><td> 0.90061930</td><td>-0.51917393</td><td>-0.8239516 </td><td>-0.7624822 </td></tr>\n",
       "\t<tr><th scope=row>47</th><td>47         </td><td>-0.8239516 </td><td> 0.99869149</td><td> 0.09243031</td><td>-0.7624822 </td><td>-0.7072597 </td></tr>\n",
       "\t<tr><th scope=row>48</th><td>48         </td><td>-0.7624822 </td><td> 0.94610145</td><td> 0.65666943</td><td>-0.7072597 </td><td>-0.6622959 </td></tr>\n",
       "\t<tr><th scope=row>49</th><td>49         </td><td>-0.7072597 </td><td> 0.76922348</td><td> 0.97004115</td><td>-0.6622959 </td><td>-0.6303770 </td></tr>\n",
       "\t<tr><th scope=row>50</th><td>50         </td><td>-0.6622959 </td><td> 0.50730858</td><td> 0.93985986</td><td>-0.6303770 </td><td>-0.6132709 </td></tr>\n",
       "\t<tr><th scope=row>51</th><td>51         </td><td>-0.6303770 </td><td> 0.20301686</td><td> 0.59998740</td><td>-0.6132709 </td><td>-0.6118876 </td></tr>\n",
       "\t<tr><th scope=row>52</th><td>52         </td><td>-0.6132709 </td><td>-0.10488947</td><td> 0.08010536</td><td>-0.6118876 </td><td>-0.6263654 </td></tr>\n",
       "\t<tr><th scope=row>53</th><td>53         </td><td>-0.6118876 </td><td>-0.38605594</td><td>-0.45062326</td><td>-0.6263654 </td><td>-0.6560668 </td></tr>\n",
       "\t<tr><th scope=row>54</th><td>54         </td><td>-0.6263654 </td><td>-0.62037652</td><td>-0.84108308</td><td>-0.6560668 </td><td>-0.6994812 </td></tr>\n",
       "\t<tr><th scope=row>55</th><td>55         </td><td>-0.6560668 </td><td>-0.79774716</td><td>-0.99844785</td><td>-0.6994812 </td><td>-0.7540403 </td></tr>\n",
       "\t<tr><th scope=row>56</th><td>56         </td><td>-0.6994812 </td><td>-0.91648048</td><td>-0.90310588</td><td>-0.7540403 </td><td>-0.8158715 </td></tr>\n",
       "\t<tr><th scope=row>57</th><td>57         </td><td>-0.7540403 </td><td>-0.98108990</td><td>-0.60022494</td><td>-0.8158715 </td><td>-0.8795304 </td></tr>\n",
       "\t<tr><th scope=row>58</th><td>58         </td><td>-0.8158715 </td><td>-0.99999524</td><td>-0.17628016</td><td>-0.8795304 </td><td>-0.9377803 </td></tr>\n",
       "\t<tr><th scope=row>59</th><td>59         </td><td>-0.8795304 </td><td>-0.98350805</td><td> 0.26923592</td><td>-0.9377803 </td><td>-0.9815149 </td></tr>\n",
       "\t<tr><th scope=row>60</th><td>60         </td><td>-0.9377803 </td><td>-0.94227547</td><td> 0.64838198</td><td>-0.9815149 </td><td>-0.9999526 </td></tr>\n",
       "\t<tr><th scope=row>⋮</th><td>⋮</td><td>⋮</td><td>⋮</td><td>⋮</td><td>⋮</td><td>⋮</td></tr>\n",
       "\t<tr><th scope=row>69</th><td>69         </td><td> 0.28217059</td><td>-0.62636536</td><td>-0.62037652</td><td> 0.59482186</td><td> 0.84641349</td></tr>\n",
       "\t<tr><th scope=row>70</th><td>70         </td><td> 0.59482186</td><td>-0.65606684</td><td>-0.79774716</td><td> 0.84641349</td><td> 0.98588637</td></tr>\n",
       "\t<tr><th scope=row>71</th><td>71         </td><td> 0.84641349</td><td>-0.69948122</td><td>-0.91648048</td><td> 0.98588637</td><td> 0.96979926</td></tr>\n",
       "\t<tr><th scope=row>72</th><td>72         </td><td> 0.98588637</td><td>-0.75404026</td><td>-0.98108990</td><td> 0.96979926</td><td> 0.77617114</td></tr>\n",
       "\t<tr><th scope=row>73</th><td>73         </td><td> 0.96979926</td><td>-0.81587145</td><td>-0.99999524</td><td> 0.77617114</td><td> 0.41822058</td></tr>\n",
       "\t<tr><th scope=row>74</th><td>74         </td><td> 0.77617114</td><td>-0.87953044</td><td>-0.98350805</td><td> 0.41822058</td><td>-0.04683788</td></tr>\n",
       "\t<tr><th scope=row>75</th><td>75         </td><td> 0.41822058</td><td>-0.93778032</td><td>-0.94227547</td><td>-0.04683788</td><td>-0.51966063</td></tr>\n",
       "\t<tr><th scope=row>76</th><td>76         </td><td>-0.04683788</td><td>-0.98151486</td><td>-0.88622361</td><td>-0.51966063</td><td>-0.87590536</td></tr>\n",
       "\t<tr><th scope=row>77</th><td>77         </td><td>-0.51966063</td><td>-0.99995260</td><td>-0.82395163</td><td>-0.87590536</td><td>-0.99925436</td></tr>\n",
       "\t<tr><th scope=row>78</th><td>78         </td><td>-0.87590536</td><td>-0.98124956</td><td>-0.76248216</td><td>-0.99925436</td><td>-0.82422302</td></tr>\n",
       "\t<tr><th scope=row>79</th><td>79         </td><td>-0.99925436</td><td>-0.91367628</td><td>-0.70725972</td><td>-0.82422302</td><td>-0.37486627</td></tr>\n",
       "\t<tr><th scope=row>80</th><td>80         </td><td>-0.82422302</td><td>-0.78745965</td><td>-0.66229587</td><td>-0.37486627</td><td> 0.21972628</td></tr>\n",
       "\t<tr><th scope=row>81</th><td>81         </td><td>-0.37486627</td><td>-0.59728104</td><td>-0.63037700</td><td> 0.21972628</td><td> 0.75029532</td></tr>\n",
       "\t<tr><th scope=row>82</th><td>82         </td><td> 0.21972628</td><td>-0.34523259</td><td>-0.61327092</td><td> 0.75029532</td><td> 0.99725212</td></tr>\n",
       "\t<tr><th scope=row>83</th><td>83         </td><td> 0.75029532</td><td>-0.04376337</td><td>-0.61188761</td><td> 0.99725212</td><td> 0.82808158</td></tr>\n",
       "\t<tr><th scope=row>84</th><td>84         </td><td> 0.99725212</td><td> 0.28217059</td><td>-0.62636536</td><td> 0.82808158</td><td> 0.28145376</td></tr>\n",
       "\t<tr><th scope=row>85</th><td>85         </td><td> 0.82808158</td><td> 0.59482186</td><td>-0.65606684</td><td> 0.28145376</td><td>-0.41334056</td></tr>\n",
       "\t<tr><th scope=row>86</th><td>86         </td><td> 0.28145376</td><td> 0.84641349</td><td>-0.69948122</td><td>-0.41334056</td><td>-0.91622954</td></tr>\n",
       "\t<tr><th scope=row>87</th><td>87         </td><td>-0.41334056</td><td> 0.98588637</td><td>-0.75404026</td><td>-0.91622954</td><td>-0.94235787</td></tr>\n",
       "\t<tr><th scope=row>88</th><td>88         </td><td>-0.91622954</td><td> 0.96979926</td><td>-0.81587145</td><td>-0.94235787</td><td>-0.43970403</td></tr>\n",
       "\t<tr><th scope=row>89</th><td>89         </td><td>-0.94235787</td><td> 0.77617114</td><td>-0.87953044</td><td>-0.43970403</td><td> 0.33342774</td></tr>\n",
       "\t<tr><th scope=row>90</th><td>90         </td><td>-0.43970403</td><td> 0.41822058</td><td>-0.93778032</td><td> 0.33342774</td><td> 0.91517885</td></tr>\n",
       "\t<tr><th scope=row>91</th><td>91         </td><td> 0.33342774</td><td>-0.04683788</td><td>-0.98151486</td><td> 0.91517885</td><td> 0.91230637</td></tr>\n",
       "\t<tr><th scope=row>92</th><td>92         </td><td> 0.91517885</td><td>-0.51966063</td><td>-0.99995260</td><td> 0.91230637</td><td> 0.28733404</td></tr>\n",
       "\t<tr><th scope=row>93</th><td>93         </td><td> 0.91230637</td><td>-0.87590536</td><td>-0.98124956</td><td> 0.28733404</td><td>-0.55353652</td></tr>\n",
       "\t<tr><th scope=row>94</th><td>94         </td><td> 0.28733404</td><td>-0.99925436</td><td>-0.91367628</td><td>-0.55353652</td><td>-0.99633759</td></tr>\n",
       "\t<tr><th scope=row>95</th><td>95         </td><td>-0.55353652</td><td>-0.82422302</td><td>-0.78745965</td><td>-0.99633759</td><td>-0.67234545</td></tr>\n",
       "\t<tr><th scope=row>96</th><td>96         </td><td>-0.99633759</td><td>-0.37486627</td><td>-0.59728104</td><td>-0.67234545</td><td> 0.20066202</td></tr>\n",
       "\t<tr><th scope=row>97</th><td>97         </td><td>-0.67234545</td><td> 0.21972628</td><td>-0.34523259</td><td> 0.20066202</td><td> 0.91749047</td></tr>\n",
       "\t<tr><th scope=row>98</th><td>98         </td><td> 0.20066202</td><td> 0.75029532</td><td>-0.04376337</td><td> 0.91749047</td><td> 0.84146198</td></tr>\n",
       "</tbody>\n",
       "</table>\n"
      ],
      "text/latex": [
       "\\begin{tabular}{r|llllll}\n",
       "  & time & outcome & lookback.15 & lookback.30 & lookahead.1 & lookahead.2\\\\\n",
       "\\hline\n",
       "\t31 & 31          &  0.9006193  & -0.51917393 &  0.74562414 &  0.9986915  &  0.9461015 \\\\\n",
       "\t32 & 32          &  0.9986915  &  0.09243031 &  0.99487803 &  0.9461015  &  0.7692235 \\\\\n",
       "\t33 & 33          &  0.9461015  &  0.65666943 &  0.60526644 &  0.7692235  &  0.5073086 \\\\\n",
       "\t34 & 34          &  0.7692235  &  0.97004115 & -0.15729425 &  0.5073086  &  0.2030169 \\\\\n",
       "\t35 & 35          &  0.5073086  &  0.93985986 & -0.81594690 &  0.2030169  & -0.1048895 \\\\\n",
       "\t36 & 36          &  0.2030169  &  0.59998740 & -0.98590376 & -0.1048895  & -0.3860559 \\\\\n",
       "\t37 & 37          & -0.1048895  &  0.08010536 & -0.58936986 & -0.3860559  & -0.6203765 \\\\\n",
       "\t38 & 38          & -0.3860559  & -0.45062326 &  0.12941026 & -0.6203765  & -0.7977472 \\\\\n",
       "\t39 & 39          & -0.6203765  & -0.84108308 &  0.76897055 & -0.7977472  & -0.9164805 \\\\\n",
       "\t40 & 40          & -0.7977472  & -0.99844785 &  0.99915733 & -0.9164805  & -0.9810899 \\\\\n",
       "\t41 & 41          & -0.9164805  & -0.90310588 &  0.72303244 & -0.9810899  & -0.9999952 \\\\\n",
       "\t42 & 42          & -0.9810899  & -0.60022494 &  0.09975082 & -0.9999952  & -0.9835080 \\\\\n",
       "\t43 & 43          & -0.9999952  & -0.17628016 & -0.56036586 & -0.9835080  & -0.9422755 \\\\\n",
       "\t44 & 44          & -0.9835080  &  0.26923592 & -0.95681111 & -0.9422755  & -0.8862236 \\\\\n",
       "\t45 & 45          & -0.9422755  &  0.64838198 & -0.93157893 & -0.8862236  & -0.8239516 \\\\\n",
       "\t46 & 46          & -0.8862236  &  0.90061930 & -0.51917393 & -0.8239516  & -0.7624822 \\\\\n",
       "\t47 & 47          & -0.8239516  &  0.99869149 &  0.09243031 & -0.7624822  & -0.7072597 \\\\\n",
       "\t48 & 48          & -0.7624822  &  0.94610145 &  0.65666943 & -0.7072597  & -0.6622959 \\\\\n",
       "\t49 & 49          & -0.7072597  &  0.76922348 &  0.97004115 & -0.6622959  & -0.6303770 \\\\\n",
       "\t50 & 50          & -0.6622959  &  0.50730858 &  0.93985986 & -0.6303770  & -0.6132709 \\\\\n",
       "\t51 & 51          & -0.6303770  &  0.20301686 &  0.59998740 & -0.6132709  & -0.6118876 \\\\\n",
       "\t52 & 52          & -0.6132709  & -0.10488947 &  0.08010536 & -0.6118876  & -0.6263654 \\\\\n",
       "\t53 & 53          & -0.6118876  & -0.38605594 & -0.45062326 & -0.6263654  & -0.6560668 \\\\\n",
       "\t54 & 54          & -0.6263654  & -0.62037652 & -0.84108308 & -0.6560668  & -0.6994812 \\\\\n",
       "\t55 & 55          & -0.6560668  & -0.79774716 & -0.99844785 & -0.6994812  & -0.7540403 \\\\\n",
       "\t56 & 56          & -0.6994812  & -0.91648048 & -0.90310588 & -0.7540403  & -0.8158715 \\\\\n",
       "\t57 & 57          & -0.7540403  & -0.98108990 & -0.60022494 & -0.8158715  & -0.8795304 \\\\\n",
       "\t58 & 58          & -0.8158715  & -0.99999524 & -0.17628016 & -0.8795304  & -0.9377803 \\\\\n",
       "\t59 & 59          & -0.8795304  & -0.98350805 &  0.26923592 & -0.9377803  & -0.9815149 \\\\\n",
       "\t60 & 60          & -0.9377803  & -0.94227547 &  0.64838198 & -0.9815149  & -0.9999526 \\\\\n",
       "\t⋮ & ⋮ & ⋮ & ⋮ & ⋮ & ⋮ & ⋮\\\\\n",
       "\t69 & 69          &  0.28217059 & -0.62636536 & -0.62037652 &  0.59482186 &  0.84641349\\\\\n",
       "\t70 & 70          &  0.59482186 & -0.65606684 & -0.79774716 &  0.84641349 &  0.98588637\\\\\n",
       "\t71 & 71          &  0.84641349 & -0.69948122 & -0.91648048 &  0.98588637 &  0.96979926\\\\\n",
       "\t72 & 72          &  0.98588637 & -0.75404026 & -0.98108990 &  0.96979926 &  0.77617114\\\\\n",
       "\t73 & 73          &  0.96979926 & -0.81587145 & -0.99999524 &  0.77617114 &  0.41822058\\\\\n",
       "\t74 & 74          &  0.77617114 & -0.87953044 & -0.98350805 &  0.41822058 & -0.04683788\\\\\n",
       "\t75 & 75          &  0.41822058 & -0.93778032 & -0.94227547 & -0.04683788 & -0.51966063\\\\\n",
       "\t76 & 76          & -0.04683788 & -0.98151486 & -0.88622361 & -0.51966063 & -0.87590536\\\\\n",
       "\t77 & 77          & -0.51966063 & -0.99995260 & -0.82395163 & -0.87590536 & -0.99925436\\\\\n",
       "\t78 & 78          & -0.87590536 & -0.98124956 & -0.76248216 & -0.99925436 & -0.82422302\\\\\n",
       "\t79 & 79          & -0.99925436 & -0.91367628 & -0.70725972 & -0.82422302 & -0.37486627\\\\\n",
       "\t80 & 80          & -0.82422302 & -0.78745965 & -0.66229587 & -0.37486627 &  0.21972628\\\\\n",
       "\t81 & 81          & -0.37486627 & -0.59728104 & -0.63037700 &  0.21972628 &  0.75029532\\\\\n",
       "\t82 & 82          &  0.21972628 & -0.34523259 & -0.61327092 &  0.75029532 &  0.99725212\\\\\n",
       "\t83 & 83          &  0.75029532 & -0.04376337 & -0.61188761 &  0.99725212 &  0.82808158\\\\\n",
       "\t84 & 84          &  0.99725212 &  0.28217059 & -0.62636536 &  0.82808158 &  0.28145376\\\\\n",
       "\t85 & 85          &  0.82808158 &  0.59482186 & -0.65606684 &  0.28145376 & -0.41334056\\\\\n",
       "\t86 & 86          &  0.28145376 &  0.84641349 & -0.69948122 & -0.41334056 & -0.91622954\\\\\n",
       "\t87 & 87          & -0.41334056 &  0.98588637 & -0.75404026 & -0.91622954 & -0.94235787\\\\\n",
       "\t88 & 88          & -0.91622954 &  0.96979926 & -0.81587145 & -0.94235787 & -0.43970403\\\\\n",
       "\t89 & 89          & -0.94235787 &  0.77617114 & -0.87953044 & -0.43970403 &  0.33342774\\\\\n",
       "\t90 & 90          & -0.43970403 &  0.41822058 & -0.93778032 &  0.33342774 &  0.91517885\\\\\n",
       "\t91 & 91          &  0.33342774 & -0.04683788 & -0.98151486 &  0.91517885 &  0.91230637\\\\\n",
       "\t92 & 92          &  0.91517885 & -0.51966063 & -0.99995260 &  0.91230637 &  0.28733404\\\\\n",
       "\t93 & 93          &  0.91230637 & -0.87590536 & -0.98124956 &  0.28733404 & -0.55353652\\\\\n",
       "\t94 & 94          &  0.28733404 & -0.99925436 & -0.91367628 & -0.55353652 & -0.99633759\\\\\n",
       "\t95 & 95          & -0.55353652 & -0.82422302 & -0.78745965 & -0.99633759 & -0.67234545\\\\\n",
       "\t96 & 96          & -0.99633759 & -0.37486627 & -0.59728104 & -0.67234545 &  0.20066202\\\\\n",
       "\t97 & 97          & -0.67234545 &  0.21972628 & -0.34523259 &  0.20066202 &  0.91749047\\\\\n",
       "\t98 & 98          &  0.20066202 &  0.75029532 & -0.04376337 &  0.91749047 &  0.84146198\\\\\n",
       "\\end{tabular}\n"
      ],
      "text/markdown": [
       "\n",
       "| <!--/--> | time | outcome | lookback.15 | lookback.30 | lookahead.1 | lookahead.2 |\n",
       "|---|---|---|---|---|---|---|\n",
       "| 31 | 31          |  0.9006193  | -0.51917393 |  0.74562414 |  0.9986915  |  0.9461015  |\n",
       "| 32 | 32          |  0.9986915  |  0.09243031 |  0.99487803 |  0.9461015  |  0.7692235  |\n",
       "| 33 | 33          |  0.9461015  |  0.65666943 |  0.60526644 |  0.7692235  |  0.5073086  |\n",
       "| 34 | 34          |  0.7692235  |  0.97004115 | -0.15729425 |  0.5073086  |  0.2030169  |\n",
       "| 35 | 35          |  0.5073086  |  0.93985986 | -0.81594690 |  0.2030169  | -0.1048895  |\n",
       "| 36 | 36          |  0.2030169  |  0.59998740 | -0.98590376 | -0.1048895  | -0.3860559  |\n",
       "| 37 | 37          | -0.1048895  |  0.08010536 | -0.58936986 | -0.3860559  | -0.6203765  |\n",
       "| 38 | 38          | -0.3860559  | -0.45062326 |  0.12941026 | -0.6203765  | -0.7977472  |\n",
       "| 39 | 39          | -0.6203765  | -0.84108308 |  0.76897055 | -0.7977472  | -0.9164805  |\n",
       "| 40 | 40          | -0.7977472  | -0.99844785 |  0.99915733 | -0.9164805  | -0.9810899  |\n",
       "| 41 | 41          | -0.9164805  | -0.90310588 |  0.72303244 | -0.9810899  | -0.9999952  |\n",
       "| 42 | 42          | -0.9810899  | -0.60022494 |  0.09975082 | -0.9999952  | -0.9835080  |\n",
       "| 43 | 43          | -0.9999952  | -0.17628016 | -0.56036586 | -0.9835080  | -0.9422755  |\n",
       "| 44 | 44          | -0.9835080  |  0.26923592 | -0.95681111 | -0.9422755  | -0.8862236  |\n",
       "| 45 | 45          | -0.9422755  |  0.64838198 | -0.93157893 | -0.8862236  | -0.8239516  |\n",
       "| 46 | 46          | -0.8862236  |  0.90061930 | -0.51917393 | -0.8239516  | -0.7624822  |\n",
       "| 47 | 47          | -0.8239516  |  0.99869149 |  0.09243031 | -0.7624822  | -0.7072597  |\n",
       "| 48 | 48          | -0.7624822  |  0.94610145 |  0.65666943 | -0.7072597  | -0.6622959  |\n",
       "| 49 | 49          | -0.7072597  |  0.76922348 |  0.97004115 | -0.6622959  | -0.6303770  |\n",
       "| 50 | 50          | -0.6622959  |  0.50730858 |  0.93985986 | -0.6303770  | -0.6132709  |\n",
       "| 51 | 51          | -0.6303770  |  0.20301686 |  0.59998740 | -0.6132709  | -0.6118876  |\n",
       "| 52 | 52          | -0.6132709  | -0.10488947 |  0.08010536 | -0.6118876  | -0.6263654  |\n",
       "| 53 | 53          | -0.6118876  | -0.38605594 | -0.45062326 | -0.6263654  | -0.6560668  |\n",
       "| 54 | 54          | -0.6263654  | -0.62037652 | -0.84108308 | -0.6560668  | -0.6994812  |\n",
       "| 55 | 55          | -0.6560668  | -0.79774716 | -0.99844785 | -0.6994812  | -0.7540403  |\n",
       "| 56 | 56          | -0.6994812  | -0.91648048 | -0.90310588 | -0.7540403  | -0.8158715  |\n",
       "| 57 | 57          | -0.7540403  | -0.98108990 | -0.60022494 | -0.8158715  | -0.8795304  |\n",
       "| 58 | 58          | -0.8158715  | -0.99999524 | -0.17628016 | -0.8795304  | -0.9377803  |\n",
       "| 59 | 59          | -0.8795304  | -0.98350805 |  0.26923592 | -0.9377803  | -0.9815149  |\n",
       "| 60 | 60          | -0.9377803  | -0.94227547 |  0.64838198 | -0.9815149  | -0.9999526  |\n",
       "| ⋮ | ⋮ | ⋮ | ⋮ | ⋮ | ⋮ | ⋮ |\n",
       "| 69 | 69          |  0.28217059 | -0.62636536 | -0.62037652 |  0.59482186 |  0.84641349 |\n",
       "| 70 | 70          |  0.59482186 | -0.65606684 | -0.79774716 |  0.84641349 |  0.98588637 |\n",
       "| 71 | 71          |  0.84641349 | -0.69948122 | -0.91648048 |  0.98588637 |  0.96979926 |\n",
       "| 72 | 72          |  0.98588637 | -0.75404026 | -0.98108990 |  0.96979926 |  0.77617114 |\n",
       "| 73 | 73          |  0.96979926 | -0.81587145 | -0.99999524 |  0.77617114 |  0.41822058 |\n",
       "| 74 | 74          |  0.77617114 | -0.87953044 | -0.98350805 |  0.41822058 | -0.04683788 |\n",
       "| 75 | 75          |  0.41822058 | -0.93778032 | -0.94227547 | -0.04683788 | -0.51966063 |\n",
       "| 76 | 76          | -0.04683788 | -0.98151486 | -0.88622361 | -0.51966063 | -0.87590536 |\n",
       "| 77 | 77          | -0.51966063 | -0.99995260 | -0.82395163 | -0.87590536 | -0.99925436 |\n",
       "| 78 | 78          | -0.87590536 | -0.98124956 | -0.76248216 | -0.99925436 | -0.82422302 |\n",
       "| 79 | 79          | -0.99925436 | -0.91367628 | -0.70725972 | -0.82422302 | -0.37486627 |\n",
       "| 80 | 80          | -0.82422302 | -0.78745965 | -0.66229587 | -0.37486627 |  0.21972628 |\n",
       "| 81 | 81          | -0.37486627 | -0.59728104 | -0.63037700 |  0.21972628 |  0.75029532 |\n",
       "| 82 | 82          |  0.21972628 | -0.34523259 | -0.61327092 |  0.75029532 |  0.99725212 |\n",
       "| 83 | 83          |  0.75029532 | -0.04376337 | -0.61188761 |  0.99725212 |  0.82808158 |\n",
       "| 84 | 84          |  0.99725212 |  0.28217059 | -0.62636536 |  0.82808158 |  0.28145376 |\n",
       "| 85 | 85          |  0.82808158 |  0.59482186 | -0.65606684 |  0.28145376 | -0.41334056 |\n",
       "| 86 | 86          |  0.28145376 |  0.84641349 | -0.69948122 | -0.41334056 | -0.91622954 |\n",
       "| 87 | 87          | -0.41334056 |  0.98588637 | -0.75404026 | -0.91622954 | -0.94235787 |\n",
       "| 88 | 88          | -0.91622954 |  0.96979926 | -0.81587145 | -0.94235787 | -0.43970403 |\n",
       "| 89 | 89          | -0.94235787 |  0.77617114 | -0.87953044 | -0.43970403 |  0.33342774 |\n",
       "| 90 | 90          | -0.43970403 |  0.41822058 | -0.93778032 |  0.33342774 |  0.91517885 |\n",
       "| 91 | 91          |  0.33342774 | -0.04683788 | -0.98151486 |  0.91517885 |  0.91230637 |\n",
       "| 92 | 92          |  0.91517885 | -0.51966063 | -0.99995260 |  0.91230637 |  0.28733404 |\n",
       "| 93 | 93          |  0.91230637 | -0.87590536 | -0.98124956 |  0.28733404 | -0.55353652 |\n",
       "| 94 | 94          |  0.28733404 | -0.99925436 | -0.91367628 | -0.55353652 | -0.99633759 |\n",
       "| 95 | 95          | -0.55353652 | -0.82422302 | -0.78745965 | -0.99633759 | -0.67234545 |\n",
       "| 96 | 96          | -0.99633759 | -0.37486627 | -0.59728104 | -0.67234545 |  0.20066202 |\n",
       "| 97 | 97          | -0.67234545 |  0.21972628 | -0.34523259 |  0.20066202 |  0.91749047 |\n",
       "| 98 | 98          |  0.20066202 |  0.75029532 | -0.04376337 |  0.91749047 |  0.84146198 |\n",
       "\n"
      ],
      "text/plain": [
       "   time outcome     lookback.15 lookback.30 lookahead.1 lookahead.2\n",
       "31 31    0.9006193  -0.51917393  0.74562414  0.9986915   0.9461015 \n",
       "32 32    0.9986915   0.09243031  0.99487803  0.9461015   0.7692235 \n",
       "33 33    0.9461015   0.65666943  0.60526644  0.7692235   0.5073086 \n",
       "34 34    0.7692235   0.97004115 -0.15729425  0.5073086   0.2030169 \n",
       "35 35    0.5073086   0.93985986 -0.81594690  0.2030169  -0.1048895 \n",
       "36 36    0.2030169   0.59998740 -0.98590376 -0.1048895  -0.3860559 \n",
       "37 37   -0.1048895   0.08010536 -0.58936986 -0.3860559  -0.6203765 \n",
       "38 38   -0.3860559  -0.45062326  0.12941026 -0.6203765  -0.7977472 \n",
       "39 39   -0.6203765  -0.84108308  0.76897055 -0.7977472  -0.9164805 \n",
       "40 40   -0.7977472  -0.99844785  0.99915733 -0.9164805  -0.9810899 \n",
       "41 41   -0.9164805  -0.90310588  0.72303244 -0.9810899  -0.9999952 \n",
       "42 42   -0.9810899  -0.60022494  0.09975082 -0.9999952  -0.9835080 \n",
       "43 43   -0.9999952  -0.17628016 -0.56036586 -0.9835080  -0.9422755 \n",
       "44 44   -0.9835080   0.26923592 -0.95681111 -0.9422755  -0.8862236 \n",
       "45 45   -0.9422755   0.64838198 -0.93157893 -0.8862236  -0.8239516 \n",
       "46 46   -0.8862236   0.90061930 -0.51917393 -0.8239516  -0.7624822 \n",
       "47 47   -0.8239516   0.99869149  0.09243031 -0.7624822  -0.7072597 \n",
       "48 48   -0.7624822   0.94610145  0.65666943 -0.7072597  -0.6622959 \n",
       "49 49   -0.7072597   0.76922348  0.97004115 -0.6622959  -0.6303770 \n",
       "50 50   -0.6622959   0.50730858  0.93985986 -0.6303770  -0.6132709 \n",
       "51 51   -0.6303770   0.20301686  0.59998740 -0.6132709  -0.6118876 \n",
       "52 52   -0.6132709  -0.10488947  0.08010536 -0.6118876  -0.6263654 \n",
       "53 53   -0.6118876  -0.38605594 -0.45062326 -0.6263654  -0.6560668 \n",
       "54 54   -0.6263654  -0.62037652 -0.84108308 -0.6560668  -0.6994812 \n",
       "55 55   -0.6560668  -0.79774716 -0.99844785 -0.6994812  -0.7540403 \n",
       "56 56   -0.6994812  -0.91648048 -0.90310588 -0.7540403  -0.8158715 \n",
       "57 57   -0.7540403  -0.98108990 -0.60022494 -0.8158715  -0.8795304 \n",
       "58 58   -0.8158715  -0.99999524 -0.17628016 -0.8795304  -0.9377803 \n",
       "59 59   -0.8795304  -0.98350805  0.26923592 -0.9377803  -0.9815149 \n",
       "60 60   -0.9377803  -0.94227547  0.64838198 -0.9815149  -0.9999526 \n",
       "⋮  ⋮    ⋮           ⋮           ⋮           ⋮           ⋮          \n",
       "69 69    0.28217059 -0.62636536 -0.62037652  0.59482186  0.84641349\n",
       "70 70    0.59482186 -0.65606684 -0.79774716  0.84641349  0.98588637\n",
       "71 71    0.84641349 -0.69948122 -0.91648048  0.98588637  0.96979926\n",
       "72 72    0.98588637 -0.75404026 -0.98108990  0.96979926  0.77617114\n",
       "73 73    0.96979926 -0.81587145 -0.99999524  0.77617114  0.41822058\n",
       "74 74    0.77617114 -0.87953044 -0.98350805  0.41822058 -0.04683788\n",
       "75 75    0.41822058 -0.93778032 -0.94227547 -0.04683788 -0.51966063\n",
       "76 76   -0.04683788 -0.98151486 -0.88622361 -0.51966063 -0.87590536\n",
       "77 77   -0.51966063 -0.99995260 -0.82395163 -0.87590536 -0.99925436\n",
       "78 78   -0.87590536 -0.98124956 -0.76248216 -0.99925436 -0.82422302\n",
       "79 79   -0.99925436 -0.91367628 -0.70725972 -0.82422302 -0.37486627\n",
       "80 80   -0.82422302 -0.78745965 -0.66229587 -0.37486627  0.21972628\n",
       "81 81   -0.37486627 -0.59728104 -0.63037700  0.21972628  0.75029532\n",
       "82 82    0.21972628 -0.34523259 -0.61327092  0.75029532  0.99725212\n",
       "83 83    0.75029532 -0.04376337 -0.61188761  0.99725212  0.82808158\n",
       "84 84    0.99725212  0.28217059 -0.62636536  0.82808158  0.28145376\n",
       "85 85    0.82808158  0.59482186 -0.65606684  0.28145376 -0.41334056\n",
       "86 86    0.28145376  0.84641349 -0.69948122 -0.41334056 -0.91622954\n",
       "87 87   -0.41334056  0.98588637 -0.75404026 -0.91622954 -0.94235787\n",
       "88 88   -0.91622954  0.96979926 -0.81587145 -0.94235787 -0.43970403\n",
       "89 89   -0.94235787  0.77617114 -0.87953044 -0.43970403  0.33342774\n",
       "90 90   -0.43970403  0.41822058 -0.93778032  0.33342774  0.91517885\n",
       "91 91    0.33342774 -0.04683788 -0.98151486  0.91517885  0.91230637\n",
       "92 92    0.91517885 -0.51966063 -0.99995260  0.91230637  0.28733404\n",
       "93 93    0.91230637 -0.87590536 -0.98124956  0.28733404 -0.55353652\n",
       "94 94    0.28733404 -0.99925436 -0.91367628 -0.55353652 -0.99633759\n",
       "95 95   -0.55353652 -0.82422302 -0.78745965 -0.99633759 -0.67234545\n",
       "96 96   -0.99633759 -0.37486627 -0.59728104 -0.67234545  0.20066202\n",
       "97 97   -0.67234545  0.21972628 -0.34523259  0.20066202  0.91749047\n",
       "98 98    0.20066202  0.75029532 -0.04376337  0.91749047  0.84146198"
      ]
     },
     "metadata": {},
     "output_type": "display_data"
    }
   ],
   "source": [
    "data.train.cs = data.train\n",
    "data.train.cs$lookback.15 = shift_up(data.train.cs$outcome, 15)\n",
    "data.train.cs$lookback.30 = shift_up(data.train.cs$outcome, 30)\n",
    "data.train.cs$lookahead.1 = shift_down(data.train.cs$outcome, 1)\n",
    "data.train.cs$lookahead.2 = shift_down(data.train.cs$outcome, 2)\n",
    "\n",
    "data.train.cs = data.train.cs[31:(nrow(data.train.cs)-2),]\n",
    "data.train.cs"
   ]
  },
  {
   "cell_type": "markdown",
   "metadata": {},
   "source": [
    "Prepare a view with origin at time step 150 in cross-sectional form.  Note: time step 150 is captured in row 50 of the test data."
   ]
  },
  {
   "cell_type": "code",
   "execution_count": 12,
   "metadata": {},
   "outputs": [
    {
     "data": {
      "text/html": [
       "<table>\n",
       "<thead><tr><th></th><th scope=col>time</th><th scope=col>outcome</th><th scope=col>lookback.15</th><th scope=col>lookback.30</th></tr></thead>\n",
       "<tbody>\n",
       "\t<tr><th scope=row>50</th><td>150       </td><td>0.978088  </td><td>-0.9478134</td><td>0.2923985 </td></tr>\n",
       "</tbody>\n",
       "</table>\n"
      ],
      "text/latex": [
       "\\begin{tabular}{r|llll}\n",
       "  & time & outcome & lookback.15 & lookback.30\\\\\n",
       "\\hline\n",
       "\t50 & 150        & 0.978088   & -0.9478134 & 0.2923985 \\\\\n",
       "\\end{tabular}\n"
      ],
      "text/markdown": [
       "\n",
       "| <!--/--> | time | outcome | lookback.15 | lookback.30 |\n",
       "|---|---|---|---|---|\n",
       "| 50 | 150        | 0.978088   | -0.9478134 | 0.2923985  |\n",
       "\n"
      ],
      "text/plain": [
       "   time outcome  lookback.15 lookback.30\n",
       "50 150  0.978088 -0.9478134  0.2923985  "
      ]
     },
     "metadata": {},
     "output_type": "display_data"
    }
   ],
   "source": [
    "view = data.test\n",
    "view$lookback.15 = shift_up(data.test$outcome, 15)\n",
    "view$lookback.30 = shift_up(data.test$outcome, 30)\n",
    "view = view[50,]\n",
    "view"
   ]
  },
  {
   "cell_type": "markdown",
   "metadata": {},
   "source": [
    "Build linear regression models to predict 1 and 2 time steps ahead given a view origin, a 15 time step lookback, and a 30 time step lookback.  Show the models' coefficients."
   ]
  },
  {
   "cell_type": "code",
   "execution_count": 13,
   "metadata": {},
   "outputs": [
    {
     "data": {
      "text/html": [
       "<table>\n",
       "<thead><tr><th></th><th scope=col>model.1.coefficients</th></tr></thead>\n",
       "<tbody>\n",
       "\t<tr><th scope=row>(Intercept)</th><td>-0.01341647</td></tr>\n",
       "\t<tr><th scope=row>outcome</th><td> 0.88447344</td></tr>\n",
       "\t<tr><th scope=row>lookback.15</th><td> 0.04873935</td></tr>\n",
       "\t<tr><th scope=row>lookback.30</th><td> 0.01089939</td></tr>\n",
       "</tbody>\n",
       "</table>\n"
      ],
      "text/latex": [
       "\\begin{tabular}{r|l}\n",
       "  & model.1.coefficients\\\\\n",
       "\\hline\n",
       "\t(Intercept) & -0.01341647\\\\\n",
       "\toutcome &  0.88447344\\\\\n",
       "\tlookback.15 &  0.04873935\\\\\n",
       "\tlookback.30 &  0.01089939\\\\\n",
       "\\end{tabular}\n"
      ],
      "text/markdown": [
       "\n",
       "| <!--/--> | model.1.coefficients |\n",
       "|---|---|\n",
       "| (Intercept) | -0.01341647 |\n",
       "| outcome |  0.88447344 |\n",
       "| lookback.15 |  0.04873935 |\n",
       "| lookback.30 |  0.01089939 |\n",
       "\n"
      ],
      "text/plain": [
       "            model.1.coefficients\n",
       "(Intercept) -0.01341647         \n",
       "outcome      0.88447344         \n",
       "lookback.15  0.04873935         \n",
       "lookback.30  0.01089939         "
      ]
     },
     "metadata": {},
     "output_type": "display_data"
    },
    {
     "data": {
      "text/html": [
       "<table>\n",
       "<thead><tr><th></th><th scope=col>model.2.coefficients</th></tr></thead>\n",
       "<tbody>\n",
       "\t<tr><th scope=row>(Intercept)</th><td>-0.09930156</td></tr>\n",
       "\t<tr><th scope=row>outcome</th><td> 0.57648957</td></tr>\n",
       "\t<tr><th scope=row>lookback.15</th><td> 0.08179816</td></tr>\n",
       "\t<tr><th scope=row>lookback.30</th><td>-0.04009437</td></tr>\n",
       "</tbody>\n",
       "</table>\n"
      ],
      "text/latex": [
       "\\begin{tabular}{r|l}\n",
       "  & model.2.coefficients\\\\\n",
       "\\hline\n",
       "\t(Intercept) & -0.09930156\\\\\n",
       "\toutcome &  0.57648957\\\\\n",
       "\tlookback.15 &  0.08179816\\\\\n",
       "\tlookback.30 & -0.04009437\\\\\n",
       "\\end{tabular}\n"
      ],
      "text/markdown": [
       "\n",
       "| <!--/--> | model.2.coefficients |\n",
       "|---|---|\n",
       "| (Intercept) | -0.09930156 |\n",
       "| outcome |  0.57648957 |\n",
       "| lookback.15 |  0.08179816 |\n",
       "| lookback.30 | -0.04009437 |\n",
       "\n"
      ],
      "text/plain": [
       "            model.2.coefficients\n",
       "(Intercept) -0.09930156         \n",
       "outcome      0.57648957         \n",
       "lookback.15  0.08179816         \n",
       "lookback.30 -0.04009437         "
      ]
     },
     "metadata": {},
     "output_type": "display_data"
    }
   ],
   "source": [
    "#Q: Am I creating the models correctly? I'm not using the view origin...\n",
    "model.1 = lm(lookahead.1 ~ outcome+lookback.15+lookback.30, data.train.cs)\n",
    "data.frame(model.1$coefficients)\n",
    "\n",
    "model.2 = lm(lookahead.2 ~ outcome+lookback.15+lookback.30, data.train.cs)\n",
    "data.frame(model.2$coefficients)"
   ]
  },
  {
   "cell_type": "markdown",
   "metadata": {},
   "source": [
    "From a view origin at time step 150, predict the outcomes at time steps 151 and 152 using the direct approach.  Show the view used to make the predictions.  Note: time step 150 is captured in row 50 of the test data."
   ]
  },
  {
   "cell_type": "code",
   "execution_count": 14,
   "metadata": {},
   "outputs": [
    {
     "data": {
      "text/html": [
       "<table>\n",
       "<thead><tr><th></th><th scope=col>time</th><th scope=col>outcome</th><th scope=col>lookback.15</th><th scope=col>lookback.30</th></tr></thead>\n",
       "<tbody>\n",
       "\t<tr><th scope=row>50</th><td>150       </td><td>0.978088  </td><td>-0.9478134</td><td>0.2923985 </td></tr>\n",
       "</tbody>\n",
       "</table>\n"
      ],
      "text/latex": [
       "\\begin{tabular}{r|llll}\n",
       "  & time & outcome & lookback.15 & lookback.30\\\\\n",
       "\\hline\n",
       "\t50 & 150        & 0.978088   & -0.9478134 & 0.2923985 \\\\\n",
       "\\end{tabular}\n"
      ],
      "text/markdown": [
       "\n",
       "| <!--/--> | time | outcome | lookback.15 | lookback.30 |\n",
       "|---|---|---|---|---|\n",
       "| 50 | 150        | 0.978088   | -0.9478134 | 0.2923985  |\n",
       "\n"
      ],
      "text/plain": [
       "   time outcome  lookback.15 lookback.30\n",
       "50 150  0.978088 -0.9478134  0.2923985  "
      ]
     },
     "metadata": {},
     "output_type": "display_data"
    }
   ],
   "source": [
    "view"
   ]
  },
  {
   "cell_type": "code",
   "execution_count": 15,
   "metadata": {},
   "outputs": [
    {
     "data": {
      "text/html": [
       "<table>\n",
       "<thead><tr><th scope=col>time</th><th scope=col>outcome.predicted</th></tr></thead>\n",
       "<tbody>\n",
       "\t<tr><td>151      </td><td>0.8086676</td></tr>\n",
       "\t<tr><td>152      </td><td>0.3753031</td></tr>\n",
       "</tbody>\n",
       "</table>\n"
      ],
      "text/latex": [
       "\\begin{tabular}{r|ll}\n",
       " time & outcome.predicted\\\\\n",
       "\\hline\n",
       "\t 151       & 0.8086676\\\\\n",
       "\t 152       & 0.3753031\\\\\n",
       "\\end{tabular}\n"
      ],
      "text/markdown": [
       "\n",
       "| time | outcome.predicted |\n",
       "|---|---|\n",
       "| 151       | 0.8086676 |\n",
       "| 152       | 0.3753031 |\n",
       "\n"
      ],
      "text/plain": [
       "  time outcome.predicted\n",
       "1 151  0.8086676        \n",
       "2 152  0.3753031        "
      ]
     },
     "metadata": {},
     "output_type": "display_data"
    }
   ],
   "source": [
    "prediction.1 = predict(model.1, view)\n",
    "prediction.2 = predict(model.2, view)\n",
    "\n",
    "prediction.direct.df = data.frame(time=c(151, 152),\n",
    "                          outcome.predicted=c(prediction.1, prediction.2))\n",
    "prediction.direct.df"
   ]
  },
  {
   "cell_type": "markdown",
   "metadata": {},
   "source": [
    "From view origin at time step 150, predict the outcomes at time steps 151 and 152 using the recursive approach.  Show the views used to make the predictions.  "
   ]
  },
  {
   "cell_type": "code",
   "execution_count": 16,
   "metadata": {},
   "outputs": [
    {
     "data": {
      "text/html": [
       "<table>\n",
       "<thead><tr><th></th><th scope=col>time</th><th scope=col>outcome</th><th scope=col>lookback.15</th><th scope=col>lookback.30</th></tr></thead>\n",
       "<tbody>\n",
       "\t<tr><th scope=row>50</th><td>150       </td><td>0.978088  </td><td>-0.9478134</td><td>0.2923985 </td></tr>\n",
       "</tbody>\n",
       "</table>\n"
      ],
      "text/latex": [
       "\\begin{tabular}{r|llll}\n",
       "  & time & outcome & lookback.15 & lookback.30\\\\\n",
       "\\hline\n",
       "\t50 & 150        & 0.978088   & -0.9478134 & 0.2923985 \\\\\n",
       "\\end{tabular}\n"
      ],
      "text/markdown": [
       "\n",
       "| <!--/--> | time | outcome | lookback.15 | lookback.30 |\n",
       "|---|---|---|---|---|\n",
       "| 50 | 150        | 0.978088   | -0.9478134 | 0.2923985  |\n",
       "\n"
      ],
      "text/plain": [
       "   time outcome  lookback.15 lookback.30\n",
       "50 150  0.978088 -0.9478134  0.2923985  "
      ]
     },
     "metadata": {},
     "output_type": "display_data"
    }
   ],
   "source": [
    "view"
   ]
  },
  {
   "cell_type": "code",
   "execution_count": 17,
   "metadata": {},
   "outputs": [],
   "source": [
    "prediction.1 = predict(model.1, view)"
   ]
  },
  {
   "cell_type": "code",
   "execution_count": 18,
   "metadata": {},
   "outputs": [
    {
     "data": {
      "text/html": [
       "<table>\n",
       "<thead><tr><th></th><th scope=col>time</th><th scope=col>outcome</th><th scope=col>lookback.15</th><th scope=col>lookback.30</th></tr></thead>\n",
       "<tbody>\n",
       "\t<tr><th scope=row>50</th><td>151       </td><td>0.8086676 </td><td>-0.9990762</td><td>-0.3444119</td></tr>\n",
       "</tbody>\n",
       "</table>\n"
      ],
      "text/latex": [
       "\\begin{tabular}{r|llll}\n",
       "  & time & outcome & lookback.15 & lookback.30\\\\\n",
       "\\hline\n",
       "\t50 & 151        & 0.8086676  & -0.9990762 & -0.3444119\\\\\n",
       "\\end{tabular}\n"
      ],
      "text/markdown": [
       "\n",
       "| <!--/--> | time | outcome | lookback.15 | lookback.30 |\n",
       "|---|---|---|---|---|\n",
       "| 50 | 151        | 0.8086676  | -0.9990762 | -0.3444119 |\n",
       "\n"
      ],
      "text/plain": [
       "   time outcome   lookback.15 lookback.30\n",
       "50 151  0.8086676 -0.9990762  -0.3444119 "
      ]
     },
     "metadata": {},
     "output_type": "display_data"
    }
   ],
   "source": [
    "view.151 = data.test\n",
    "view.151$lookback.15 = shift_up(data.test$outcome, 14)\n",
    "view.151$lookback.30 = shift_up(data.test$outcome, 29)\n",
    "view.151 = view.151[50,]\n",
    "view.151$time = 151\n",
    "view.151$outcome = prediction.1\n",
    "view.151"
   ]
  },
  {
   "cell_type": "code",
   "execution_count": 19,
   "metadata": {
    "scrolled": true
   },
   "outputs": [
    {
     "data": {
      "text/html": [
       "<table>\n",
       "<thead><tr><th scope=col>time</th><th scope=col>outcome.predicted</th></tr></thead>\n",
       "<tbody>\n",
       "\t<tr><td>151      </td><td>0.8086676</td></tr>\n",
       "\t<tr><td>152      </td><td>0.6493803</td></tr>\n",
       "</tbody>\n",
       "</table>\n"
      ],
      "text/latex": [
       "\\begin{tabular}{r|ll}\n",
       " time & outcome.predicted\\\\\n",
       "\\hline\n",
       "\t 151       & 0.8086676\\\\\n",
       "\t 152       & 0.6493803\\\\\n",
       "\\end{tabular}\n"
      ],
      "text/markdown": [
       "\n",
       "| time | outcome.predicted |\n",
       "|---|---|\n",
       "| 151       | 0.8086676 |\n",
       "| 152       | 0.6493803 |\n",
       "\n"
      ],
      "text/plain": [
       "  time outcome.predicted\n",
       "1 151  0.8086676        \n",
       "2 152  0.6493803        "
      ]
     },
     "metadata": {},
     "output_type": "display_data"
    }
   ],
   "source": [
    "prediction.2 = predict(model.1, view.151)\n",
    "prediction.recursive.df = data.frame(time=c(151, 152), \n",
    "                          outcome.predicted=c(prediction.1, prediction.2))\n",
    "prediction.recursive.df"
   ]
  },
  {
   "cell_type": "markdown",
   "metadata": {},
   "source": [
    "Show the training data, testing data, predicted outcomes by direct approach, and predicted outcomes by recursive approach as a line chart."
   ]
  },
  {
   "cell_type": "code",
   "execution_count": 20,
   "metadata": {},
   "outputs": [
    {
     "data": {
      "image/png": "[encoded data removed]",
      "text/plain": [
       "plot without title"
      ]
     },
     "metadata": {
      "image/png": {
       "height": 360,
       "width": 840
      },
      "text/plain": {
       "height": 360,
       "width": 840
      }
     },
     "output_type": "display_data"
    }
   ],
   "source": [
    "ggplot() +\n",
    "geom_line(aes(x=time, y=outcome, color=\"train\"), data=data.train) +\n",
    "geom_line(aes(x=time, y=outcome, color=\"test\"), data=data.test) + \n",
    "geom_line(aes(x=time, y=outcome.predicted, color=\"prediction | direct\"), data=prediction.direct.df) + \n",
    "geom_line(aes(x=time, y=outcome.predicted, color=\"prediction | recursive\"), data=prediction.recursive.df) +\n",
    "scale_color_manual(values=PALETTE[c(2,2,3,1)])"
   ]
  },
  {
   "cell_type": "markdown",
   "metadata": {},
   "source": [
    "<font size=1;>\n",
    "<p style=\"text-align: left;\">\n",
    "Copyright (c) Berkeley Data Analytics Group, LLC\n",
    "<span style=\"float: right;\">\n",
    "Document revised June 23, 2020\n",
    "</span>\n",
    "</p>\n",
    "</font>"
   ]
  }
 ],
 "metadata": {
  "hide_code_all_hidden": false,
  "hide_input": false,
  "kernelspec": {
   "display_name": "R",
   "language": "R",
   "name": "ir"
  },
  "language_info": {
   "codemirror_mode": "r",
   "file_extension": ".r",
   "mimetype": "text/x-r-source",
   "name": "R",
   "pygments_lexer": "r",
   "version": "3.6.3"
  },
  "toc": {
   "base_numbering": 1,
   "nav_menu": {},
   "number_sections": false,
   "sideBar": true,
   "skip_h1_title": true,
   "title_cell": "Table of Contents",
   "title_sidebar": "Contents",
   "toc_cell": false,
   "toc_position": {},
   "toc_section_display": true,
   "toc_window_display": true
  }
 },
 "nbformat": 4,
 "nbformat_minor": 2
}
