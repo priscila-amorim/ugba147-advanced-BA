{
 "cells": [
  {
   "cell_type": "markdown",
   "metadata": {
    "hideCode": false,
    "hidePrompt": false
   },
   "source": [
    "# Classification by Neural Network"
   ]
  },
  {
   "cell_type": "markdown",
   "metadata": {},
   "source": [
    "**Write and execute R code in the code cells per the instructions.  The expected results are provided for you directly following the code cells.**"
   ]
  },
  {
   "cell_type": "code",
   "execution_count": 12,
   "metadata": {},
   "outputs": [
    {
     "data": {
      "text/html": [
       "<p style=\"text-align:center; font-size:10px;\">\n",
       ".................................................... start of document ....................................................\n",
       "</p>"
      ]
     },
     "metadata": {},
     "output_type": "display_data"
    }
   ],
   "source": [
    "f = \"setup.R\"; for (i in 1:10) { if (file.exists(f)) break else f = paste0(\"../\", f) }; source(f)"
   ]
  },
  {
   "cell_type": "markdown",
   "metadata": {},
   "source": [
    "## Problem 1\n",
    "\n",
    "Consider the data and new observations below.  Construct a 1-layer (no hidden nodes) neural network model based on the data, and use it to classify the new observations, assuming cutoff for A is 0.5.  Use the perceptron method with initial weights $w0=1$, $w1=1$, $w2=1$ to find the final weights.  Note, the number of iterations necessary to stablize the weights may vary depending on how you randomize the order of observations."
   ]
  },
  {
   "cell_type": "code",
   "execution_count": 13,
   "metadata": {},
   "outputs": [
    {
     "data": {
      "text/html": [
       "<table><tr><td style=\"background-color:white; vertical-align:top; padding-right:40px;\"><table>\n",
       "<caption><center><font color=\"black\"><b>data</b></font></center></caption>\n",
       " <thead>\n",
       "  <tr>\n",
       "   <th style=\"text-align:right;background-color: #FFFFFF !important;\"> x1 </th>\n",
       "   <th style=\"text-align:right;background-color: #FFFFFF !important;\"> x2 </th>\n",
       "   <th style=\"text-align:right;background-color: #FFFFFF !important;\"> class </th>\n",
       "  </tr>\n",
       " </thead>\n",
       "<tbody>\n",
       "  <tr>\n",
       "   <td style=\"text-align:right;\"> 0 </td>\n",
       "   <td style=\"text-align:right;\"> 0 </td>\n",
       "   <td style=\"text-align:right;\"> A </td>\n",
       "  </tr>\n",
       "  <tr>\n",
       "   <td style=\"text-align:right;\"> 1 </td>\n",
       "   <td style=\"text-align:right;\"> 0 </td>\n",
       "   <td style=\"text-align:right;\"> B </td>\n",
       "  </tr>\n",
       "  <tr>\n",
       "   <td style=\"text-align:right;\"> 2 </td>\n",
       "   <td style=\"text-align:right;\"> 1 </td>\n",
       "   <td style=\"text-align:right;\"> A </td>\n",
       "  </tr>\n",
       "</tbody>\n",
       "</table></td><td style=\"background-color:white; vertical-align:top;\"><table>\n",
       "<caption><center><font color=\"black\"><b>new</b></font></center></caption>\n",
       " <thead>\n",
       "  <tr>\n",
       "   <th style=\"text-align:right;background-color: #FFFFFF !important;\"> x1 </th>\n",
       "   <th style=\"text-align:right;background-color: #FFFFFF !important;\"> x2 </th>\n",
       "  </tr>\n",
       " </thead>\n",
       "<tbody>\n",
       "  <tr>\n",
       "   <td style=\"text-align:right;\"> 1 </td>\n",
       "   <td style=\"text-align:right;\"> 0.1 </td>\n",
       "  </tr>\n",
       "  <tr>\n",
       "   <td style=\"text-align:right;\"> 1 </td>\n",
       "   <td style=\"text-align:right;\"> 0.6 </td>\n",
       "  </tr>\n",
       "</tbody>\n",
       "</table></td></tr></table>"
      ]
     },
     "metadata": {},
     "output_type": "display_data"
    },
    {
     "data": {
      "image/png": "[encoded data removed]",
      "text/plain": [
       "plot without title"
      ]
     },
     "metadata": {
      "image/png": {
       "height": 360,
       "width": 840
      },
      "text/plain": {
       "height": 360,
       "width": 840
      }
     },
     "output_type": "display_data"
    }
   ],
   "source": [
    "data = data.frame(x1=c(0,1,2), x2=c(0,0,1), class=c(\"A\", \"B\", \"A\"))\n",
    "new = data.frame(x1=c(1,1), x2=c(0.1,0.6))\n",
    "\n",
    "layout(fmt(data), fmt(new))\n",
    "ggplot(data) +\n",
    "geom_point(aes(x=x1, y=x2, color=class)) +\n",
    "geom_point(aes(x=x1, y=x2), data=new, color=NEW_COLOR)"
   ]
  },
  {
   "cell_type": "code",
   "execution_count": 14,
   "metadata": {},
   "outputs": [
    {
     "data": {
      "text/html": [
       "<table>\n",
       "<thead><tr><th scope=col>w0.current</th><th scope=col>w1.current</th><th scope=col>w2.current</th></tr></thead>\n",
       "<tbody>\n",
       "\t<tr><td>1</td><td>1</td><td>1</td></tr>\n",
       "</tbody>\n",
       "</table>\n"
      ],
      "text/latex": [
       "\\begin{tabular}{r|lll}\n",
       " w0.current & w1.current & w2.current\\\\\n",
       "\\hline\n",
       "\t 1 & 1 & 1\\\\\n",
       "\\end{tabular}\n"
      ],
      "text/markdown": [
       "\n",
       "| w0.current | w1.current | w2.current |\n",
       "|---|---|---|\n",
       "| 1 | 1 | 1 |\n",
       "\n"
      ],
      "text/plain": [
       "  w0.current w1.current w2.current\n",
       "1 1          1          1         "
      ]
     },
     "metadata": {},
     "output_type": "display_data"
    },
    {
     "data": {
      "text/html": [
       "<table>\n",
       "<thead><tr><th scope=col>iteration</th><th scope=col>x1</th><th scope=col>x2</th><th scope=col>class</th><th scope=col>class.bin</th><th scope=col>w0</th><th scope=col>w1</th><th scope=col>w2</th><th scope=col>output</th><th scope=col>error</th><th scope=col>cutoff.A</th><th scope=col>class.bin.predicted</th></tr></thead>\n",
       "<tbody>\n",
       "\t<tr><td>0  </td><td>0  </td><td>0  </td><td>A  </td><td>1  </td><td>NA </td><td>NA </td><td>NA </td><td>NA </td><td>NA </td><td>0.5</td><td>NA </td></tr>\n",
       "\t<tr><td>0  </td><td>1  </td><td>0  </td><td>B  </td><td>0  </td><td>NA </td><td>NA </td><td>NA </td><td>NA </td><td>NA </td><td>0.5</td><td>NA </td></tr>\n",
       "\t<tr><td>0  </td><td>2  </td><td>1  </td><td>A  </td><td>1  </td><td>NA </td><td>NA </td><td>NA </td><td>NA </td><td>NA </td><td>0.5</td><td>NA </td></tr>\n",
       "</tbody>\n",
       "</table>\n"
      ],
      "text/latex": [
       "\\begin{tabular}{r|llllllllllll}\n",
       " iteration & x1 & x2 & class & class.bin & w0 & w1 & w2 & output & error & cutoff.A & class.bin.predicted\\\\\n",
       "\\hline\n",
       "\t 0   & 0   & 0   & A   & 1   & NA  & NA  & NA  & NA  & NA  & 0.5 & NA \\\\\n",
       "\t 0   & 1   & 0   & B   & 0   & NA  & NA  & NA  & NA  & NA  & 0.5 & NA \\\\\n",
       "\t 0   & 2   & 1   & A   & 1   & NA  & NA  & NA  & NA  & NA  & 0.5 & NA \\\\\n",
       "\\end{tabular}\n"
      ],
      "text/markdown": [
       "\n",
       "| iteration | x1 | x2 | class | class.bin | w0 | w1 | w2 | output | error | cutoff.A | class.bin.predicted |\n",
       "|---|---|---|---|---|---|---|---|---|---|---|---|\n",
       "| 0   | 0   | 0   | A   | 1   | NA  | NA  | NA  | NA  | NA  | 0.5 | NA  |\n",
       "| 0   | 1   | 0   | B   | 0   | NA  | NA  | NA  | NA  | NA  | 0.5 | NA  |\n",
       "| 0   | 2   | 1   | A   | 1   | NA  | NA  | NA  | NA  | NA  | 0.5 | NA  |\n",
       "\n"
      ],
      "text/plain": [
       "  iteration x1 x2 class class.bin w0 w1 w2 output error cutoff.A\n",
       "1 0         0  0  A     1         NA NA NA NA     NA    0.5     \n",
       "2 0         1  0  B     0         NA NA NA NA     NA    0.5     \n",
       "3 0         2  1  A     1         NA NA NA NA     NA    0.5     \n",
       "  class.bin.predicted\n",
       "1 NA                 \n",
       "2 NA                 \n",
       "3 NA                 "
      ]
     },
     "metadata": {},
     "output_type": "display_data"
    }
   ],
   "source": [
    "# Configure & initialize perceptron method\n",
    "cutoff.A = 0.5\n",
    "iteration = 0\n",
    "status = data.frame(iteration, x1=data$x1, x2=data$x2, class=data$class, class.bin=as.binary(data$class, \"A\"), w0=NA, w1=NA, w2=NA, output=NA, error=NA, cutoff.A, class.bin.predicted=NA)\n",
    "w0.current = 1; w1.current = 1; w2.current = 1\n",
    "\n",
    "data.frame(w0.current, w1.current, w2.current)\n",
    "status"
   ]
  },
  {
   "cell_type": "code",
   "execution_count": 15,
   "metadata": {},
   "outputs": [],
   "source": [
    "set.seed(0)"
   ]
  },
  {
   "cell_type": "code",
   "execution_count": 16,
   "metadata": {},
   "outputs": [
    {
     "data": {
      "text/html": [
       "<table>\n",
       "<thead><tr><th></th><th scope=col>iteration</th><th scope=col>x1</th><th scope=col>x2</th><th scope=col>class</th><th scope=col>class.bin</th><th scope=col>w0</th><th scope=col>w1</th><th scope=col>w2</th><th scope=col>output</th><th scope=col>error</th><th scope=col>cutoff.A</th><th scope=col>class.bin.predicted</th></tr></thead>\n",
       "<tbody>\n",
       "\t<tr><th scope=row>2</th><td>0         </td><td>1         </td><td>0         </td><td>B         </td><td>0         </td><td>1.0000000 </td><td>1.0000000 </td><td>1         </td><td>0.8807971 </td><td>-0.8807971</td><td>0.5       </td><td>1         </td></tr>\n",
       "\t<tr><th scope=row>1</th><td>0         </td><td>0         </td><td>0         </td><td>A         </td><td>1         </td><td>0.1192029 </td><td>0.1192029 </td><td>1         </td><td>0.5297655 </td><td> 0.4702345</td><td>0.5       </td><td>1         </td></tr>\n",
       "\t<tr><th scope=row>3</th><td>0         </td><td>2         </td><td>1         </td><td>A         </td><td>1         </td><td>0.1192029 </td><td>0.1192029 </td><td>1         </td><td>0.7953708 </td><td> 0.2046292</td><td>0.5       </td><td>1         </td></tr>\n",
       "</tbody>\n",
       "</table>\n"
      ],
      "text/latex": [
       "\\begin{tabular}{r|llllllllllll}\n",
       "  & iteration & x1 & x2 & class & class.bin & w0 & w1 & w2 & output & error & cutoff.A & class.bin.predicted\\\\\n",
       "\\hline\n",
       "\t2 & 0          & 1          & 0          & B          & 0          & 1.0000000  & 1.0000000  & 1          & 0.8807971  & -0.8807971 & 0.5        & 1         \\\\\n",
       "\t1 & 0          & 0          & 0          & A          & 1          & 0.1192029  & 0.1192029  & 1          & 0.5297655  &  0.4702345 & 0.5        & 1         \\\\\n",
       "\t3 & 0          & 2          & 1          & A          & 1          & 0.1192029  & 0.1192029  & 1          & 0.7953708  &  0.2046292 & 0.5        & 1         \\\\\n",
       "\\end{tabular}\n"
      ],
      "text/markdown": [
       "\n",
       "| <!--/--> | iteration | x1 | x2 | class | class.bin | w0 | w1 | w2 | output | error | cutoff.A | class.bin.predicted |\n",
       "|---|---|---|---|---|---|---|---|---|---|---|---|---|\n",
       "| 2 | 0          | 1          | 0          | B          | 0          | 1.0000000  | 1.0000000  | 1          | 0.8807971  | -0.8807971 | 0.5        | 1          |\n",
       "| 1 | 0          | 0          | 0          | A          | 1          | 0.1192029  | 0.1192029  | 1          | 0.5297655  |  0.4702345 | 0.5        | 1          |\n",
       "| 3 | 0          | 2          | 1          | A          | 1          | 0.1192029  | 0.1192029  | 1          | 0.7953708  |  0.2046292 | 0.5        | 1          |\n",
       "\n"
      ],
      "text/plain": [
       "  iteration x1 x2 class class.bin w0        w1        w2 output    error     \n",
       "2 0         1  0  B     0         1.0000000 1.0000000 1  0.8807971 -0.8807971\n",
       "1 0         0  0  A     1         0.1192029 0.1192029 1  0.5297655  0.4702345\n",
       "3 0         2  1  A     1         0.1192029 0.1192029 1  0.7953708  0.2046292\n",
       "  cutoff.A class.bin.predicted\n",
       "2 0.5      1                  \n",
       "1 0.5      1                  \n",
       "3 0.5      1                  "
      ]
     },
     "metadata": {},
     "output_type": "display_data"
    }
   ],
   "source": [
    "# Iterate perceptron method\n",
    "status = status[sample(nrow(status)),]\n",
    "for (obs in 1:3) {\n",
    "    status$w0[obs] = w0.current; status$w1[obs] = w1.current; status$w2[obs] = w2.current\n",
    "    status$output[obs] = sigmoid(status$w0[obs] + status$w1[obs]*status$x1[obs] + status$w2[obs]*status$x2[obs])\n",
    "    status$error[obs] = status$class.bin[obs] - status$output[obs]\n",
    "    status$class.bin.predicted[obs] = as.numeric(status$output[obs] >= cutoff.A)\n",
    "    if (status$class.bin.predicted[obs] != status$class.bin[obs]) {\n",
    "        w0.current = status$w0[obs] + status$error[obs]\n",
    "        w1.current = status$w1[obs] + status$error[obs]*status$x1[obs]\n",
    "        w2.current = status$w2[obs] + status$error[obs]*status$x2[obs] \n",
    "    }\n",
    "}\n",
    "status"
   ]
  },
  {
   "cell_type": "code",
   "execution_count": 17,
   "metadata": {},
   "outputs": [
    {
     "data": {
      "text/html": [
       "<table>\n",
       "<thead><tr><th scope=col>w0.current</th><th scope=col>w1.current</th><th scope=col>w2.current</th></tr></thead>\n",
       "<tbody>\n",
       "\t<tr><td>0.1192029</td><td>0.1192029</td><td>1        </td></tr>\n",
       "</tbody>\n",
       "</table>\n"
      ],
      "text/latex": [
       "\\begin{tabular}{r|lll}\n",
       " w0.current & w1.current & w2.current\\\\\n",
       "\\hline\n",
       "\t 0.1192029 & 0.1192029 & 1        \\\\\n",
       "\\end{tabular}\n"
      ],
      "text/markdown": [
       "\n",
       "| w0.current | w1.current | w2.current |\n",
       "|---|---|---|\n",
       "| 0.1192029 | 0.1192029 | 1         |\n",
       "\n"
      ],
      "text/plain": [
       "  w0.current w1.current w2.current\n",
       "1 0.1192029  0.1192029  1         "
      ]
     },
     "metadata": {},
     "output_type": "display_data"
    }
   ],
   "source": [
    "data.frame(w0.current, w1.current, w2.current)"
   ]
  },
  {
   "cell_type": "code",
   "execution_count": 18,
   "metadata": {},
   "outputs": [
    {
     "data": {
      "text/html": [
       "<table>\n",
       "<thead><tr><th scope=col>x1</th><th scope=col>x2</th><th scope=col>output</th><th scope=col>cutoff.A</th><th scope=col>class.predicted</th></tr></thead>\n",
       "<tbody>\n",
       "\t<tr><td>1        </td><td>0.1      </td><td>0.5838032</td><td>0.5      </td><td>A        </td></tr>\n",
       "\t<tr><td>1        </td><td>0.6      </td><td>0.6981294</td><td>0.5      </td><td>A        </td></tr>\n",
       "</tbody>\n",
       "</table>\n"
      ],
      "text/latex": [
       "\\begin{tabular}{r|lllll}\n",
       " x1 & x2 & output & cutoff.A & class.predicted\\\\\n",
       "\\hline\n",
       "\t 1         & 0.1       & 0.5838032 & 0.5       & A        \\\\\n",
       "\t 1         & 0.6       & 0.6981294 & 0.5       & A        \\\\\n",
       "\\end{tabular}\n"
      ],
      "text/markdown": [
       "\n",
       "| x1 | x2 | output | cutoff.A | class.predicted |\n",
       "|---|---|---|---|---|\n",
       "| 1         | 0.1       | 0.5838032 | 0.5       | A         |\n",
       "| 1         | 0.6       | 0.6981294 | 0.5       | A         |\n",
       "\n"
      ],
      "text/plain": [
       "  x1 x2  output    cutoff.A class.predicted\n",
       "1 1  0.1 0.5838032 0.5      A              \n",
       "2 1  0.6 0.6981294 0.5      A              "
      ]
     },
     "metadata": {},
     "output_type": "display_data"
    }
   ],
   "source": [
    "output = sigmoid(w0.current + w1.current*new$x1 + w2.current*new$x2)\n",
    "class.predicted = as.class(data.frame(\"A\"=output, \"B\"=1-output), \"A\", cutoff.A)\n",
    "                           \n",
    "data.frame(x1=new$x1, x2=new$x2, output, cutoff.A, class.predicted)"
   ]
  },
  {
   "cell_type": "markdown",
   "metadata": {},
   "source": [
    "## Problem 2\n",
    "\n",
    "Consider the data and new observations below."
   ]
  },
  {
   "cell_type": "code",
   "execution_count": 19,
   "metadata": {},
   "outputs": [
    {
     "data": {
      "text/html": [
       "<table><tr><td style=\"background-color:white; vertical-align:top; padding-right:40px;\"><table>\n",
       "<caption><center><font color=\"black\"><b>data</b></font></center></caption>\n",
       " <thead>\n",
       "  <tr>\n",
       "   <th style=\"text-align:right;background-color: #FFFFFF !important;\"> x1 </th>\n",
       "   <th style=\"text-align:right;background-color: #FFFFFF !important;\"> x2 </th>\n",
       "   <th style=\"text-align:right;background-color: #FFFFFF !important;\"> class </th>\n",
       "  </tr>\n",
       " </thead>\n",
       "<tbody>\n",
       "  <tr>\n",
       "   <td style=\"text-align:right;\"> 1 </td>\n",
       "   <td style=\"text-align:right;\"> 9 </td>\n",
       "   <td style=\"text-align:right;\"> A </td>\n",
       "  </tr>\n",
       "  <tr>\n",
       "   <td style=\"text-align:right;\"> 2 </td>\n",
       "   <td style=\"text-align:right;\"> 7 </td>\n",
       "   <td style=\"text-align:right;\"> B </td>\n",
       "  </tr>\n",
       "  <tr>\n",
       "   <td style=\"text-align:right;\"> 3 </td>\n",
       "   <td style=\"text-align:right;\"> 6 </td>\n",
       "   <td style=\"text-align:right;\"> A </td>\n",
       "  </tr>\n",
       "  <tr>\n",
       "   <td style=\"text-align:right;\"> 2 </td>\n",
       "   <td style=\"text-align:right;\"> 5 </td>\n",
       "   <td style=\"text-align:right;\"> B </td>\n",
       "  </tr>\n",
       "  <tr>\n",
       "   <td style=\"text-align:right;\"> 1 </td>\n",
       "   <td style=\"text-align:right;\"> 6 </td>\n",
       "   <td style=\"text-align:right;\"> A </td>\n",
       "  </tr>\n",
       "  <tr>\n",
       "   <td style=\"text-align:right;\"> 4 </td>\n",
       "   <td style=\"text-align:right;\"> 3 </td>\n",
       "   <td style=\"text-align:right;\"> B </td>\n",
       "  </tr>\n",
       "  <tr>\n",
       "   <td style=\"text-align:right;\"> 6 </td>\n",
       "   <td style=\"text-align:right;\"> 2 </td>\n",
       "   <td style=\"text-align:right;\"> A </td>\n",
       "  </tr>\n",
       "  <tr>\n",
       "   <td style=\"text-align:right;\"> 5 </td>\n",
       "   <td style=\"text-align:right;\"> 1 </td>\n",
       "   <td style=\"text-align:right;\"> B </td>\n",
       "  </tr>\n",
       "</tbody>\n",
       "</table></td><td style=\"background-color:white; vertical-align:top;\"><table>\n",
       "<caption><center><font color=\"black\"><b>new</b></font></center></caption>\n",
       " <thead>\n",
       "  <tr>\n",
       "   <th style=\"text-align:right;background-color: #FFFFFF !important;\"> x1 </th>\n",
       "   <th style=\"text-align:right;background-color: #FFFFFF !important;\"> x2 </th>\n",
       "  </tr>\n",
       " </thead>\n",
       "<tbody>\n",
       "  <tr>\n",
       "   <td style=\"text-align:right;\"> 1 </td>\n",
       "   <td style=\"text-align:right;\"> 7 </td>\n",
       "  </tr>\n",
       "  <tr>\n",
       "   <td style=\"text-align:right;\"> 5 </td>\n",
       "   <td style=\"text-align:right;\"> 2 </td>\n",
       "  </tr>\n",
       "  <tr>\n",
       "   <td style=\"text-align:right;\"> 2 </td>\n",
       "   <td style=\"text-align:right;\"> 6 </td>\n",
       "  </tr>\n",
       "  <tr>\n",
       "   <td style=\"text-align:right;\"> 6 </td>\n",
       "   <td style=\"text-align:right;\"> 3 </td>\n",
       "  </tr>\n",
       "</tbody>\n",
       "</table></td></tr></table>"
      ]
     },
     "metadata": {},
     "output_type": "display_data"
    },
    {
     "data": {
      "image/png": "[encoded data removed]",
      "text/plain": [
       "plot without title"
      ]
     },
     "metadata": {
      "image/png": {
       "height": 360,
       "width": 840
      },
      "text/plain": {
       "height": 360,
       "width": 840
      }
     },
     "output_type": "display_data"
    }
   ],
   "source": [
    "data = data.frame(x1=c(1,2,3,2,1,4,6,5), x2=c(9,7,6,5,6,3,2,1), class=c(\"A\", \"B\", \"A\", \"B\", \"A\", \"B\", \"A\", \"B\"))\n",
    "new = data.frame(x1=c(1,5,2,6), x2=c(7,2,6,3))\n",
    "\n",
    "layout(fmt(data), fmt(new))\n",
    "ggplot(data) +\n",
    "geom_point(aes(x=x1, y=x2, color=class)) +\n",
    "geom_point(aes(x=x1, y=x2), data=new, color=NEW_COLOR)"
   ]
  },
  {
   "cell_type": "markdown",
   "metadata": {},
   "source": [
    "Here is a 2-layer (1 hidden layer) neural network model constructed from the data using a sigmoid activation function. "
   ]
  },
  {
   "cell_type": "code",
   "execution_count": 20,
   "metadata": {},
   "outputs": [
    {
     "data": {
      "text/html": [
       "<ol>\n",
       "\t<li><table>\n",
       "<tbody>\n",
       "\t<tr><td>-6.8863228</td><td> 0.9163646</td></tr>\n",
       "\t<tr><td>-0.8752118</td><td> 6.2842984</td></tr>\n",
       "\t<tr><td> 9.4356764</td><td>-1.3631269</td></tr>\n",
       "</tbody>\n",
       "</table>\n",
       "</li>\n",
       "\t<li><table>\n",
       "<tbody>\n",
       "\t<tr><td>-0.2989332</td></tr>\n",
       "\t<tr><td> 3.1205953</td></tr>\n",
       "\t<tr><td>-3.2023208</td></tr>\n",
       "</tbody>\n",
       "</table>\n",
       "</li>\n",
       "</ol>\n"
      ],
      "text/latex": [
       "\\begin{enumerate}\n",
       "\\item \\begin{tabular}{ll}\n",
       "\t -6.8863228 &  0.9163646\\\\\n",
       "\t -0.8752118 &  6.2842984\\\\\n",
       "\t  9.4356764 & -1.3631269\\\\\n",
       "\\end{tabular}\n",
       "\n",
       "\\item \\begin{tabular}{l}\n",
       "\t -0.2989332\\\\\n",
       "\t  3.1205953\\\\\n",
       "\t -3.2023208\\\\\n",
       "\\end{tabular}\n",
       "\n",
       "\\end{enumerate}\n"
      ],
      "text/markdown": [
       "1. \n",
       "| -6.8863228 |  0.9163646 |\n",
       "| -0.8752118 |  6.2842984 |\n",
       "|  9.4356764 | -1.3631269 |\n",
       "\n",
       "\n",
       "2. \n",
       "| -0.2989332 |\n",
       "|  3.1205953 |\n",
       "| -3.2023208 |\n",
       "\n",
       "\n",
       "\n",
       "\n"
      ],
      "text/plain": [
       "[[1]]\n",
       "           [,1]       [,2]\n",
       "[1,] -6.8863228  0.9163646\n",
       "[2,] -0.8752118  6.2842984\n",
       "[3,]  9.4356764 -1.3631269\n",
       "\n",
       "[[2]]\n",
       "           [,1]\n",
       "[1,] -0.2989332\n",
       "[2,]  3.1205953\n",
       "[3,] -3.2023208\n"
      ]
     },
     "metadata": {},
     "output_type": "display_data"
    },
    {
     "data": {
      "image/png": "[encoded data removed]",
      "text/plain": [
       "plot without title"
      ]
     },
     "metadata": {
      "image/png": {
       "height": 480,
       "width": 480
      },
      "text/plain": {
       "height": 480,
       "width": 480
      }
     },
     "output_type": "display_data"
    }
   ],
   "source": [
    "set.seed(0)\n",
    "\n",
    "data$class.bin = as.binary(data$class, \"A\")\n",
    "model = neuralnet(class.bin ~ x1+x2, data, hidden=2, algorithm=\"rprop+\", act.fct=\"logistic\", linear.output=FALSE, rep=1)\n",
    "w = model$weights[[1]]\n",
    "\n",
    "w\n",
    "output_size(4, 4)\n",
    "plot(model, rep=1, fill=\"gray\", show.weights=TRUE, information=FALSE, cex=0.7, lwd=0.5)\n",
    "output_size(restore)"
   ]
  },
  {
   "cell_type": "markdown",
   "metadata": {},
   "source": [
    "Here is how to access the weights. "
   ]
  },
  {
   "cell_type": "code",
   "execution_count": 21,
   "metadata": {},
   "outputs": [
    {
     "data": {
      "text/html": [
       "-6.8863228351192"
      ],
      "text/latex": [
       "-6.8863228351192"
      ],
      "text/markdown": [
       "-6.8863228351192"
      ],
      "text/plain": [
       "[1] -6.886323"
      ]
     },
     "metadata": {},
     "output_type": "display_data"
    },
    {
     "data": {
      "text/html": [
       "-0.875211840360251"
      ],
      "text/latex": [
       "-0.875211840360251"
      ],
      "text/markdown": [
       "-0.875211840360251"
      ],
      "text/plain": [
       "[1] -0.8752118"
      ]
     },
     "metadata": {},
     "output_type": "display_data"
    },
    {
     "data": {
      "text/html": [
       "9.43567638292248"
      ],
      "text/latex": [
       "9.43567638292248"
      ],
      "text/markdown": [
       "9.43567638292248"
      ],
      "text/plain": [
       "[1] 9.435676"
      ]
     },
     "metadata": {},
     "output_type": "display_data"
    },
    {
     "data": {
      "text/html": [
       "0.916364601709627"
      ],
      "text/latex": [
       "0.916364601709627"
      ],
      "text/markdown": [
       "0.916364601709627"
      ],
      "text/plain": [
       "[1] 0.9163646"
      ]
     },
     "metadata": {},
     "output_type": "display_data"
    },
    {
     "data": {
      "text/html": [
       "6.28429843327632"
      ],
      "text/latex": [
       "6.28429843327632"
      ],
      "text/markdown": [
       "6.28429843327632"
      ],
      "text/plain": [
       "[1] 6.284298"
      ]
     },
     "metadata": {},
     "output_type": "display_data"
    },
    {
     "data": {
      "text/html": [
       "-1.36312693907962"
      ],
      "text/latex": [
       "-1.36312693907962"
      ],
      "text/markdown": [
       "-1.36312693907962"
      ],
      "text/plain": [
       "[1] -1.363127"
      ]
     },
     "metadata": {},
     "output_type": "display_data"
    },
    {
     "data": {
      "text/html": [
       "-0.298933155687897"
      ],
      "text/latex": [
       "-0.298933155687897"
      ],
      "text/markdown": [
       "-0.298933155687897"
      ],
      "text/plain": [
       "[1] -0.2989332"
      ]
     },
     "metadata": {},
     "output_type": "display_data"
    },
    {
     "data": {
      "text/html": [
       "3.12059530617573"
      ],
      "text/latex": [
       "3.12059530617573"
      ],
      "text/markdown": [
       "3.12059530617573"
      ],
      "text/plain": [
       "[1] 3.120595"
      ]
     },
     "metadata": {},
     "output_type": "display_data"
    },
    {
     "data": {
      "text/html": [
       "-3.20232077249733"
      ],
      "text/latex": [
       "-3.20232077249733"
      ],
      "text/markdown": [
       "-3.20232077249733"
      ],
      "text/plain": [
       "[1] -3.202321"
      ]
     },
     "metadata": {},
     "output_type": "display_data"
    }
   ],
   "source": [
    "w[[1]][1,1]\n",
    "w[[1]][2,1]\n",
    "w[[1]][3,1]\n",
    "w[[1]][1,2]\n",
    "w[[1]][2,2]\n",
    "w[[1]][3,2]\n",
    "w[[2]][1,1]\n",
    "w[[2]][2,1]\n",
    "w[[2]][3,1]"
   ]
  },
  {
   "cell_type": "markdown",
   "metadata": {},
   "source": [
    "Use the neural network model to classify the new observations, assuming cutoff for A is 0.5.  Show the outputs of the hidden nodes and the output node.  Note, you will have to compute the output for each node separately based on relevant inputs, weights, and activation function. "
   ]
  },
  {
   "cell_type": "code",
   "execution_count": 22,
   "metadata": {},
   "outputs": [
    {
     "data": {
      "text/html": [
       "<table>\n",
       "<thead><tr><th scope=col>x1</th><th scope=col>x2</th><th scope=col>h1</th><th scope=col>h2</th><th scope=col>out</th><th scope=col>class.predicted</th></tr></thead>\n",
       "<tbody>\n",
       "\t<tr><td>1         </td><td>7         </td><td>1.0000000 </td><td>0.08776575</td><td>0.9269400 </td><td>A         </td></tr>\n",
       "\t<tr><td>5         </td><td>2         </td><td>0.9995043 </td><td>1.00000000</td><td>0.4055950 </td><td>B         </td></tr>\n",
       "\t<tr><td>2         </td><td>6         </td><td>1.0000000 </td><td>0.99506374</td><td>0.4097857 </td><td>B         </td></tr>\n",
       "\t<tr><td>6         </td><td>3         </td><td>0.9999999 </td><td>1.00000000</td><td>0.4059680 </td><td>B         </td></tr>\n",
       "</tbody>\n",
       "</table>\n"
      ],
      "text/latex": [
       "\\begin{tabular}{r|llllll}\n",
       " x1 & x2 & h1 & h2 & out & class.predicted\\\\\n",
       "\\hline\n",
       "\t 1          & 7          & 1.0000000  & 0.08776575 & 0.9269400  & A         \\\\\n",
       "\t 5          & 2          & 0.9995043  & 1.00000000 & 0.4055950  & B         \\\\\n",
       "\t 2          & 6          & 1.0000000  & 0.99506374 & 0.4097857  & B         \\\\\n",
       "\t 6          & 3          & 0.9999999  & 1.00000000 & 0.4059680  & B         \\\\\n",
       "\\end{tabular}\n"
      ],
      "text/markdown": [
       "\n",
       "| x1 | x2 | h1 | h2 | out | class.predicted |\n",
       "|---|---|---|---|---|---|\n",
       "| 1          | 7          | 1.0000000  | 0.08776575 | 0.9269400  | A          |\n",
       "| 5          | 2          | 0.9995043  | 1.00000000 | 0.4055950  | B          |\n",
       "| 2          | 6          | 1.0000000  | 0.99506374 | 0.4097857  | B          |\n",
       "| 6          | 3          | 0.9999999  | 1.00000000 | 0.4059680  | B          |\n",
       "\n"
      ],
      "text/plain": [
       "  x1 x2 h1        h2         out       class.predicted\n",
       "1 1  7  1.0000000 0.08776575 0.9269400 A              \n",
       "2 5  2  0.9995043 1.00000000 0.4055950 B              \n",
       "3 2  6  1.0000000 0.99506374 0.4097857 B              \n",
       "4 6  3  0.9999999 1.00000000 0.4059680 B              "
      ]
     },
     "metadata": {},
     "output_type": "display_data"
    }
   ],
   "source": [
    "full.output = compute(model, new, rep=1)\n",
    "h1 = full.output$neurons[[2]][,2]\n",
    "h2 = full.output$neurons[[2]][,3]\n",
    "out = full.output$net.result\n",
    "class.predicted = as.class(data.frame(\"A\"=out, \"B\"=1-out), \"A\", cutoff.A)\n",
    "\n",
    "prob2.df = data.frame(x1=new$x1, x2=new$x2, h1, h2, out, class.predicted)\n",
    "prob2.df"
   ]
  },
  {
   "cell_type": "markdown",
   "metadata": {},
   "source": [
    "<font size=1;>\n",
    "<p style=\"text-align: left;\">\n",
    "Copyright (c) Berkeley Data Analytics Group, LLC\n",
    "<span style=\"float: right;\">\n",
    "Document revised March 30, 2020\n",
    "</span>\n",
    "</p>\n",
    "</font>"
   ]
  }
 ],
 "metadata": {
  "hide_code_all_hidden": false,
  "hide_input": false,
  "kernelspec": {
   "display_name": "R",
   "language": "R",
   "name": "ir"
  },
  "language_info": {
   "codemirror_mode": "r",
   "file_extension": ".r",
   "mimetype": "text/x-r-source",
   "name": "R",
   "pygments_lexer": "r",
   "version": "3.6.3"
  },
  "toc": {
   "base_numbering": 1,
   "nav_menu": {},
   "number_sections": false,
   "sideBar": true,
   "skip_h1_title": true,
   "title_cell": "Table of Contents",
   "title_sidebar": "Contents",
   "toc_cell": false,
   "toc_position": {},
   "toc_section_display": true,
   "toc_window_display": true
  }
 },
 "nbformat": 4,
 "nbformat_minor": 2
}
