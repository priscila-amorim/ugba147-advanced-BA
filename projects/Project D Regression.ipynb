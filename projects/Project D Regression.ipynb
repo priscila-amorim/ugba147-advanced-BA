{
 "cells": [
  {
   "cell_type": "markdown",
   "metadata": {
    "hideCode": false,
    "hidePrompt": false
   },
   "source": [
    "# Project Part D: Regression\n",
    "\n",
    "![](banner_project.jpg)"
   ]
  },
  {
   "cell_type": "code",
   "execution_count": 1,
   "metadata": {},
   "outputs": [],
   "source": [
    "analyst = \"Priscila Carcamo Amorim\" # Replace this with your name"
   ]
  },
  {
   "cell_type": "code",
   "execution_count": 2,
   "metadata": {
    "hide_input": false
   },
   "outputs": [
    {
     "data": {
      "text/html": [
       "<p style=\"text-align:center; font-size:10px;\">\n",
       ".................................................... start of document ....................................................\n",
       "</p>"
      ]
     },
     "metadata": {},
     "output_type": "display_data"
    }
   ],
   "source": [
    "f = \"setup.R\"; for (i in 1:10) { if (file.exists(f)) break else f = paste0(\"../\", f) }; source(f)\n",
    "options(repr.matrix.max.rows=674)\n",
    "options(repr.matrix.max.cols=200)\n",
    "update_geom_defaults(\"point\", list(size=1))                                "
   ]
  },
  {
   "cell_type": "markdown",
   "metadata": {},
   "source": [
    "## Directions"
   ]
  },
  {
   "cell_type": "markdown",
   "metadata": {},
   "source": [
    "### Objective\n",
    "\n",
    "Construct and evaluate a regressor trained on a transformed dataset about public company fundamentals.  Later, use the regressor along with additional analysis to recommend a portfolio of 12 company investments that maximizes 12-month return of an overall \\$1,000,000 investment."
   ]
  },
  {
   "cell_type": "markdown",
   "metadata": {},
   "source": [
    "### Approach\n",
    "\n",
    "Retrieve a transformed dataset.\n",
    "\n",
    "Construct a model to predict how much stock price will grow over 12 months, given 12 months of past company fundamentals data, and using a machine learning model construction method and transformed data.\n",
    "\n",
    "Evaluate the model's business performance based on a business model and business parameters."
   ]
  },
  {
   "cell_type": "markdown",
   "metadata": {},
   "source": [
    "## Business Model\n",
    "\n",
    "The business model is ...\n",
    "\n",
    "$ \\begin{align} profit = \\left( \\sum_{i \\in portfolio} (1 + growth_i) \\times allocation_i \\right) - budget \\end{align} $\n",
    "\n",
    "<br>\n",
    "\n",
    "$ profit\\,rate = profit \\div budget $\n",
    "\n",
    "\n",
    "$ \\begin{align} budget = \\sum_{i \\in portfolio} allocation_i \\end{align} $\n",
    "\n",
    "<br>\n",
    "\n",
    "Business model parameters include ...\n",
    "\n",
    "* Budget = \\\\$1,000,000: total investment to allocate across the companies in the portfolio\n",
    "* Portfolio Size = 12: number of companies in the portfolio\n",
    "* Allocations = \\\\$1,000,000 $\\div$ 12 to each company: investments to allocate to specific companies in the portfolio \n",
    "\n",
    "Fill the portfolio with companies that have the highest predicted growths."
   ]
  },
  {
   "cell_type": "code",
   "execution_count": 3,
   "metadata": {},
   "outputs": [
    {
     "data": {
      "text/html": [
       "<table><tr><td style=\"background-color:white; vertical-align:top; padding-right:40px;\"><table>\n",
       " <thead>\n",
       "  <tr>\n",
       "   <th style=\"text-align:right;background-color: #FFFFFF !important;\"> budget </th>\n",
       "  </tr>\n",
       " </thead>\n",
       "<tbody>\n",
       "  <tr>\n",
       "   <td style=\"text-align:right;\"> 1000000 </td>\n",
       "  </tr>\n",
       "</tbody>\n",
       "</table></td><td style=\"background-color:white; vertical-align:top; padding-right:40px;\"><table>\n",
       " <thead>\n",
       "  <tr>\n",
       "   <th style=\"text-align:right;background-color: #FFFFFF !important;\"> portfolio_size </th>\n",
       "  </tr>\n",
       " </thead>\n",
       "<tbody>\n",
       "  <tr>\n",
       "   <td style=\"text-align:right;\"> 12 </td>\n",
       "  </tr>\n",
       "</tbody>\n",
       "</table></td><td style=\"background-color:white; vertical-align:top;\"><table>\n",
       " <thead>\n",
       "  <tr>\n",
       "   <th style=\"text-align:right;background-color: #FFFFFF !important;\"> allocation </th>\n",
       "  </tr>\n",
       " </thead>\n",
       "<tbody>\n",
       "  <tr>\n",
       "   <td style=\"text-align:right;\"> 83333.33 </td>\n",
       "  </tr>\n",
       "  <tr>\n",
       "   <td style=\"text-align:right;\"> 83333.33 </td>\n",
       "  </tr>\n",
       "  <tr>\n",
       "   <td style=\"text-align:right;\"> 83333.33 </td>\n",
       "  </tr>\n",
       "  <tr>\n",
       "   <td style=\"text-align:right;\"> 83333.33 </td>\n",
       "  </tr>\n",
       "  <tr>\n",
       "   <td style=\"text-align:right;\"> 83333.33 </td>\n",
       "  </tr>\n",
       "  <tr>\n",
       "   <td style=\"text-align:right;\"> 83333.33 </td>\n",
       "  </tr>\n",
       "  <tr>\n",
       "   <td style=\"text-align:right;\"> 83333.33 </td>\n",
       "  </tr>\n",
       "  <tr>\n",
       "   <td style=\"text-align:right;\"> 83333.33 </td>\n",
       "  </tr>\n",
       "  <tr>\n",
       "   <td style=\"text-align:right;\"> 83333.33 </td>\n",
       "  </tr>\n",
       "  <tr>\n",
       "   <td style=\"text-align:right;\"> 83333.33 </td>\n",
       "  </tr>\n",
       "  <tr>\n",
       "   <td style=\"text-align:right;\"> 83333.33 </td>\n",
       "  </tr>\n",
       "  <tr>\n",
       "   <td style=\"text-align:right;\"> 83333.33 </td>\n",
       "  </tr>\n",
       "</tbody>\n",
       "</table></td></tr></table>"
      ]
     },
     "metadata": {},
     "output_type": "display_data"
    }
   ],
   "source": [
    "# Set the business parameters.\n",
    "\n",
    "budget = 1000000\n",
    "portfolio_size = 12\n",
    "allocation = rep(budget/portfolio_size, portfolio_size)\n",
    "\n",
    "layout(fmt(budget), fmt(portfolio_size), fmt(allocation))"
   ]
  },
  {
   "cell_type": "markdown",
   "metadata": {},
   "source": [
    "## Data\n",
    "\n",
    "_<< Discuss this data retrieval. >>_  \n",
    "  \n",
    "**ANSWER:**  \n",
    "  \n",
    "This data comes from Project Part B. It is the transformed dataset that we stored after selecting certain predictor variables--such as gvkey, tic, conm, and the PCs--and outcome variables, which include prccq, growth, and big_growth. This transformed data set, which has gone through rigorous data cleaning, filtering, and transformation, will be used in the following section for building regression models."
   ]
  },
  {
   "cell_type": "code",
   "execution_count": 4,
   "metadata": {},
   "outputs": [
    {
     "data": {
      "text/html": [
       "<table>\n",
       "<thead><tr><th scope=col>gvkey</th><th scope=col>tic</th><th scope=col>conm</th><th scope=col>PC1</th><th scope=col>PC2</th><th scope=col>prccq</th><th scope=col>growth</th><th scope=col>big_growth</th></tr></thead>\n",
       "<tbody>\n",
       "\t<tr><td>1004                        </td><td>AIR                         </td><td>AAR CORP                    </td><td>  3.4371231                 </td><td>-0.2260719                  </td><td>43.69                       </td><td> 0.0507455507               </td><td>NO                          </td></tr>\n",
       "\t<tr><td>1045                        </td><td>AAL                         </td><td>AMERICAN AIRLINES GROUP INC </td><td>-12.0332067                 </td><td> 0.8045109                  </td><td>32.11                       </td><td>-0.3828560446               </td><td>NO                          </td></tr>\n",
       "\t<tr><td>1050                        </td><td>CECE                        </td><td>CECO ENVIRONMENTAL CORP     </td><td>  3.9532234                 </td><td>-0.7553386                  </td><td> 6.75                       </td><td> 0.3157894737               </td><td>YES                         </td></tr>\n",
       "\t<tr><td>1062                        </td><td>ASA                         </td><td>ASA GOLD AND PRECIOUS METALS</td><td>  3.6561434                 </td><td>-0.7981915                  </td><td> 8.66                       </td><td>-0.2164739518               </td><td>NO                          </td></tr>\n",
       "\t<tr><td>1072                        </td><td>AVX                         </td><td>AVX CORP                    </td><td>  2.9282228                 </td><td>-0.7104200                  </td><td>15.25                       </td><td>-0.1184971098               </td><td>NO                          </td></tr>\n",
       "\t<tr><td>1075                        </td><td>PNW                         </td><td>PINNACLE WEST CAPITAL CORP  </td><td>  0.3488491                 </td><td> 1.1389605                  </td><td>85.20                       </td><td> 0.0002347969               </td><td>NO                          </td></tr>\n",
       "</tbody>\n",
       "</table>\n"
      ],
      "text/latex": [
       "\\begin{tabular}{r|llllllll}\n",
       " gvkey & tic & conm & PC1 & PC2 & prccq & growth & big\\_growth\\\\\n",
       "\\hline\n",
       "\t 1004                         & AIR                          & AAR CORP                     &   3.4371231                  & -0.2260719                   & 43.69                        &  0.0507455507                & NO                          \\\\\n",
       "\t 1045                         & AAL                          & AMERICAN AIRLINES GROUP INC  & -12.0332067                  &  0.8045109                   & 32.11                        & -0.3828560446                & NO                          \\\\\n",
       "\t 1050                         & CECE                         & CECO ENVIRONMENTAL CORP      &   3.9532234                  & -0.7553386                   &  6.75                        &  0.3157894737                & YES                         \\\\\n",
       "\t 1062                         & ASA                          & ASA GOLD AND PRECIOUS METALS &   3.6561434                  & -0.7981915                   &  8.66                        & -0.2164739518                & NO                          \\\\\n",
       "\t 1072                         & AVX                          & AVX CORP                     &   2.9282228                  & -0.7104200                   & 15.25                        & -0.1184971098                & NO                          \\\\\n",
       "\t 1075                         & PNW                          & PINNACLE WEST CAPITAL CORP   &   0.3488491                  &  1.1389605                   & 85.20                        &  0.0002347969                & NO                          \\\\\n",
       "\\end{tabular}\n"
      ],
      "text/markdown": [
       "\n",
       "| gvkey | tic | conm | PC1 | PC2 | prccq | growth | big_growth |\n",
       "|---|---|---|---|---|---|---|---|\n",
       "| 1004                         | AIR                          | AAR CORP                     |   3.4371231                  | -0.2260719                   | 43.69                        |  0.0507455507                | NO                           |\n",
       "| 1045                         | AAL                          | AMERICAN AIRLINES GROUP INC  | -12.0332067                  |  0.8045109                   | 32.11                        | -0.3828560446                | NO                           |\n",
       "| 1050                         | CECE                         | CECO ENVIRONMENTAL CORP      |   3.9532234                  | -0.7553386                   |  6.75                        |  0.3157894737                | YES                          |\n",
       "| 1062                         | ASA                          | ASA GOLD AND PRECIOUS METALS |   3.6561434                  | -0.7981915                   |  8.66                        | -0.2164739518                | NO                           |\n",
       "| 1072                         | AVX                          | AVX CORP                     |   2.9282228                  | -0.7104200                   | 15.25                        | -0.1184971098                | NO                           |\n",
       "| 1075                         | PNW                          | PINNACLE WEST CAPITAL CORP   |   0.3488491                  |  1.1389605                   | 85.20                        |  0.0002347969                | NO                           |\n",
       "\n"
      ],
      "text/plain": [
       "  gvkey tic  conm                         PC1         PC2        prccq\n",
       "1 1004  AIR  AAR CORP                       3.4371231 -0.2260719 43.69\n",
       "2 1045  AAL  AMERICAN AIRLINES GROUP INC  -12.0332067  0.8045109 32.11\n",
       "3 1050  CECE CECO ENVIRONMENTAL CORP        3.9532234 -0.7553386  6.75\n",
       "4 1062  ASA  ASA GOLD AND PRECIOUS METALS   3.6561434 -0.7981915  8.66\n",
       "5 1072  AVX  AVX CORP                       2.9282228 -0.7104200 15.25\n",
       "6 1075  PNW  PINNACLE WEST CAPITAL CORP     0.3488491  1.1389605 85.20\n",
       "  growth        big_growth\n",
       "1  0.0507455507 NO        \n",
       "2 -0.3828560446 NO        \n",
       "3  0.3157894737 YES       \n",
       "4 -0.2164739518 NO        \n",
       "5 -0.1184971098 NO        \n",
       "6  0.0002347969 NO        "
      ]
     },
     "metadata": {},
     "output_type": "display_data"
    }
   ],
   "source": [
    "# Retrieve \"My Data.csv\"\n",
    "data = read.csv(\"My Data.csv\", header=TRUE)\n",
    "\n",
    "# Present a few rows ...\n",
    "head(data)"
   ]
  },
  {
   "cell_type": "markdown",
   "metadata": {},
   "source": [
    "## Regression Model\n",
    "\n",
    "_<< Discuss this model construction and evaluation. >>_  \n",
    "  \n",
    "**ANSWER:**  \n",
    "  \n",
    "In this entire section, we are using linear regression to construct a regression model using only PC1 and PC2; however, in each part of this section, we are building the model in different ways. In 4.2, we build the model using the entire data set; in other words, the data is not split into partitions at all. With the full data set, we get an RMSE value of roughly 0.47, and a negative profit of about $116,000, thus resulting in a negative profit rate of -0.12.  \n",
    "  \n",
    "In 4.3, we partition the data into training and validation, with 75% of the data devoted for training, and another 25% for validation. With this, we see that there are 3228 observations in the training data, and 1077 observations in the validation set. When we create the linear regression model, we train it using only the training data. We predict with PC1 and PC2 of the validation data, and determine the RMSE value by finding the number of \"hits\", or correct predictions, the model has made. This is easily done by computing the difference between the expected value and the predicted value for each observation. In this section, the RMSE is roughly 0.51, which is close to the RMSE from section 4.1, but also slightly higher. The profit in 4.2 is way more negative; in this section, the profit is roughly -$41,000. Thus, the profit rate is also far higher, with a value of -0.04. From this, we can see that using the training and validation data has made the linear regression model have worse performance with the RMSE, but results in a far better profit value, thus inviting us to consider the tradeoffs. So far, linear regression is not doing a good job of predicting the values of growth very well just PC1 and PC2. Maybe using the values of PC1 and PC2 are not good predictor values.  \n",
    "  \n",
    "In the final part, which is 4.4, we are using cross validation. We separate the data into 5 folds. For each fold, we separate the training from validation, in which the validation has the fold values from the fold partitions. With each fold, we compute the RMSE, profit, and profit rate as we have done in the previous sections by creating a model for each training data, computing predictions for growth, and determining the values that we are interested in. It is interesting to see that all folds resulted in negative profit, fold 5 is the only fold that saw the highest profit (which has the smallest negative value), yet fold 4 saw the lowest RMSE (with a value of roughly 0.4). The overall cross validation RMSE, profit, and profit rate are roughly 0.47, -71,000, and -0.07, respectively.  \n",
    "  \n",
    "Thus, overall in this entire analysis with different linear regression models, we are seeing negative profit and high RMSE values, suggesting that PC1 and PC2 are not good predictor variables for determining the values of growth for a specific company. This means that we should not fully rely on our linear regression models to compute roughly accurate values of growth. It is likely that we need to use more variables to correctly predict growth, and that simply using PC1 and PC2 is not sufficient."
   ]
  },
  {
   "cell_type": "markdown",
   "metadata": {},
   "source": [
    "### Build Model"
   ]
  },
  {
   "cell_type": "code",
   "execution_count": 5,
   "metadata": {},
   "outputs": [
    {
     "data": {
      "text/plain": [
       "\n",
       "Call:\n",
       "lm(formula = growth ~ PC1 + PC2, data = data)\n",
       "\n",
       "Coefficients:\n",
       "(Intercept)          PC1          PC2  \n",
       " -0.1185887    0.0002455    0.0006294  \n"
      ]
     },
     "metadata": {},
     "output_type": "display_data"
    }
   ],
   "source": [
    "# Construct a linear regression model to predict growth given PC1 and PC2.\n",
    "# Present a brief summary of the model parameters.\n",
    "model = lm(growth ~ PC1+PC2, data)\n",
    "model"
   ]
  },
  {
   "cell_type": "markdown",
   "metadata": {},
   "source": [
    "### In-Sample Estimated Performance"
   ]
  },
  {
   "cell_type": "code",
   "execution_count": 6,
   "metadata": {},
   "outputs": [
    {
     "data": {
      "text/html": [
       "<table>\n",
       "<caption><center><font color=\"black\"><b>In-Sample Estimated Performance</b></font></center></caption>\n",
       " <thead>\n",
       "  <tr>\n",
       "   <th style=\"text-align:right;background-color: #FFFFFF !important;\"> rmse </th>\n",
       "   <th style=\"text-align:right;background-color: #FFFFFF !important;\"> profit </th>\n",
       "   <th style=\"text-align:right;background-color: #FFFFFF !important;\"> profit_rate </th>\n",
       "  </tr>\n",
       " </thead>\n",
       "<tbody>\n",
       "  <tr>\n",
       "   <td style=\"text-align:right;\"> 0.468815 </td>\n",
       "   <td style=\"text-align:right;\"> -115641.1 </td>\n",
       "   <td style=\"text-align:right;\"> -0.1156411 </td>\n",
       "  </tr>\n",
       "</tbody>\n",
       "</table>"
      ]
     },
     "metadata": {},
     "output_type": "display_data"
    }
   ],
   "source": [
    "# Present the model's in-sample estimated RMSE, profit, and profit rate.\n",
    "data.4_2 = data\n",
    "data.4_2$predicted.growth = predict(model, data)\n",
    "rmse = sqrt(mean((data.4_2$growth - data.4_2$predicted.growth)^2))\n",
    "\n",
    "\n",
    "data.4_2_sorted = data.4_2[order(-data.4_2$predicted.growth),]\n",
    "portfolio.data = data.4_2_sorted[1:portfolio_size,]\n",
    "profit = sum((rep(1, portfolio_size) + portfolio.data$growth) * allocation) - budget\n",
    "profit_rate = profit / budget\n",
    "\n",
    "df.4_2 = data.frame(rmse, profit, profit_rate)\n",
    "fmt(df.4_2, \"In-Sample Estimated Performance\")"
   ]
  },
  {
   "cell_type": "markdown",
   "metadata": {},
   "source": [
    "### Out-of-Sample Estimated Performance"
   ]
  },
  {
   "cell_type": "code",
   "execution_count": 7,
   "metadata": {},
   "outputs": [
    {
     "data": {
      "text/html": [
       "<table><tr><td style=\"background-color:white; vertical-align:top; padding-right:40px;\"><table>\n",
       "<caption><center><font color=\"black\"><b>size(data.train)</b></font></center></caption>\n",
       " <thead>\n",
       "  <tr>\n",
       "   <th style=\"text-align:right;background-color: #FFFFFF !important;\"> observations </th>\n",
       "   <th style=\"text-align:right;background-color: #FFFFFF !important;\"> variables </th>\n",
       "  </tr>\n",
       " </thead>\n",
       "<tbody>\n",
       "  <tr>\n",
       "   <td style=\"text-align:right;\"> 3228 </td>\n",
       "   <td style=\"text-align:right;\"> 8 </td>\n",
       "  </tr>\n",
       "</tbody>\n",
       "</table></td><td style=\"background-color:white; vertical-align:top;\"><table>\n",
       "<caption><center><font color=\"black\"><b>size(data.dev)</b></font></center></caption>\n",
       " <thead>\n",
       "  <tr>\n",
       "   <th style=\"text-align:right;background-color: #FFFFFF !important;\"> observations </th>\n",
       "   <th style=\"text-align:right;background-color: #FFFFFF !important;\"> variables </th>\n",
       "  </tr>\n",
       " </thead>\n",
       "<tbody>\n",
       "  <tr>\n",
       "   <td style=\"text-align:right;\"> 1077 </td>\n",
       "   <td style=\"text-align:right;\"> 8 </td>\n",
       "  </tr>\n",
       "</tbody>\n",
       "</table></td></tr></table>"
      ]
     },
     "metadata": {},
     "output_type": "display_data"
    }
   ],
   "source": [
    "# Partition the data into training (75%) and validation (25%)\n",
    "# (use set.seed(0) and sample(...) to choose training observations).\n",
    "# How many observations and variables in the training data?\n",
    "# How many observations and variables in the validation data?\n",
    "set.seed(0)\n",
    "train = sample(1:nrow(data), 0.75*nrow(data))\n",
    "dev = setdiff(1:nrow(data), train)\n",
    "\n",
    "data.train = data[train,]\n",
    "data.dev = data[dev,]\n",
    "\n",
    "layout(fmt(size(data.train)), fmt(size(data.dev)))"
   ]
  },
  {
   "cell_type": "code",
   "execution_count": 8,
   "metadata": {},
   "outputs": [
    {
     "data": {
      "text/html": [
       "<table>\n",
       "<caption><center><font color=\"black\"><b>Out-of-Sample Estimated Performance</b></font></center></caption>\n",
       " <thead>\n",
       "  <tr>\n",
       "   <th style=\"text-align:right;background-color: #FFFFFF !important;\"> rmse </th>\n",
       "   <th style=\"text-align:right;background-color: #FFFFFF !important;\"> profit </th>\n",
       "   <th style=\"text-align:right;background-color: #FFFFFF !important;\"> profit_rate </th>\n",
       "  </tr>\n",
       " </thead>\n",
       "<tbody>\n",
       "  <tr>\n",
       "   <td style=\"text-align:right;\"> 0.5081251 </td>\n",
       "   <td style=\"text-align:right;\"> -40986.91 </td>\n",
       "   <td style=\"text-align:right;\"> -0.0409869 </td>\n",
       "  </tr>\n",
       "</tbody>\n",
       "</table>"
      ]
     },
     "metadata": {},
     "output_type": "display_data"
    }
   ],
   "source": [
    "# Present the model's out-of-sample estimated RMSE, profit, and profit rate.\n",
    "model = lm(growth ~ PC1+PC2, data.train)\n",
    "data.4_3 = data.dev\n",
    "data.4_3$predicted.growth = predict(model, data.dev)\n",
    "rmse = sqrt(mean((data.4_3$growth - data.4_3$predicted.growth)^2))\n",
    "\n",
    "\n",
    "data.4_3_sorted = data.4_3[order(-data.4_3$predicted.growth),]\n",
    "portfolio.data = data.4_3_sorted[1:portfolio_size,]\n",
    "profit = sum((rep(1, portfolio_size) + portfolio.data$growth) * allocation) - budget\n",
    "profit_rate = profit / budget\n",
    "\n",
    "df.4_3 = data.frame(rmse, profit, profit_rate)\n",
    "fmt(df.4_3, \"Out-of-Sample Estimated Performance\")"
   ]
  },
  {
   "cell_type": "markdown",
   "metadata": {},
   "source": [
    "### 5-Fold Cross-Validation Estimated Performance"
   ]
  },
  {
   "cell_type": "code",
   "execution_count": 9,
   "metadata": {},
   "outputs": [
    {
     "name": "stdout",
     "output_type": "stream",
     "text": [
      "List of 5\n",
      " $ Fold1: int [1:862] 8 11 16 22 30 32 38 40 41 44 ...\n",
      " $ Fold2: int [1:860] 3 9 10 23 26 27 34 39 52 64 ...\n",
      " $ Fold3: int [1:862] 2 7 19 29 35 42 53 57 61 62 ...\n",
      " $ Fold4: int [1:861] 1 4 5 6 15 17 28 33 36 43 ...\n",
      " $ Fold5: int [1:860] 12 13 14 18 20 21 24 25 31 37 ...\n"
     ]
    }
   ],
   "source": [
    "# Partition the data into 5 folds (use set.seed(0) and createFolds(...) based on growth).\n",
    "# Present the first few observation (row) numbers for each of the folds.\n",
    "#\n",
    "# You can use the str() function.\n",
    "set.seed(0)\n",
    "fold = createFolds(data$growth, k=5)\n",
    "str(fold)"
   ]
  },
  {
   "cell_type": "code",
   "execution_count": 10,
   "metadata": {},
   "outputs": [
    {
     "data": {
      "text/html": [
       "<table>\n",
       "<thead><tr><th scope=col>fold</th><th scope=col>rmse</th><th scope=col>profit</th></tr></thead>\n",
       "<tbody>\n",
       "\t<tr><td>1         </td><td>0.4446211 </td><td> -68328.20</td></tr>\n",
       "\t<tr><td>2         </td><td>0.4356790 </td><td> -84359.01</td></tr>\n",
       "\t<tr><td>3         </td><td>0.5041439 </td><td> -83515.95</td></tr>\n",
       "\t<tr><td>4         </td><td>0.3998234 </td><td>-114715.51</td></tr>\n",
       "\t<tr><td>5         </td><td>0.5460360 </td><td>  -6010.14</td></tr>\n",
       "</tbody>\n",
       "</table>\n"
      ],
      "text/latex": [
       "\\begin{tabular}{r|lll}\n",
       " fold & rmse & profit\\\\\n",
       "\\hline\n",
       "\t 1          & 0.4446211  &  -68328.20\\\\\n",
       "\t 2          & 0.4356790  &  -84359.01\\\\\n",
       "\t 3          & 0.5041439  &  -83515.95\\\\\n",
       "\t 4          & 0.3998234  & -114715.51\\\\\n",
       "\t 5          & 0.5460360  &   -6010.14\\\\\n",
       "\\end{tabular}\n"
      ],
      "text/markdown": [
       "\n",
       "| fold | rmse | profit |\n",
       "|---|---|---|\n",
       "| 1          | 0.4446211  |  -68328.20 |\n",
       "| 2          | 0.4356790  |  -84359.01 |\n",
       "| 3          | 0.5041439  |  -83515.95 |\n",
       "| 4          | 0.3998234  | -114715.51 |\n",
       "| 5          | 0.5460360  |   -6010.14 |\n",
       "\n"
      ],
      "text/plain": [
       "  fold rmse      profit    \n",
       "1 1    0.4446211  -68328.20\n",
       "2 2    0.4356790  -84359.01\n",
       "3 3    0.5041439  -83515.95\n",
       "4 4    0.3998234 -114715.51\n",
       "5 5    0.5460360   -6010.14"
      ]
     },
     "metadata": {},
     "output_type": "display_data"
    }
   ],
   "source": [
    "# Present the model's estimated RMSE and profit for each fold.\n",
    "rmse = c(NA, NA, NA, NA, NA)\n",
    "profit = c(NA, NA, NA, NA, NA)\n",
    "profit_rate = c(NA, NA, NA, NA, NA)\n",
    "\n",
    "for (i in 1:5) { \n",
    "    data.train = data[setdiff(1:nrow(data), fold[[i]]),]\n",
    "    data.dev = data[fold[[i]],]\n",
    "\n",
    "    model = lm(growth ~ PC1+PC2, data.train)\n",
    "    data.dev$predicted.growth = predict(model, data.dev)\n",
    "   \n",
    "    rmse.val = sqrt(mean((data.dev$growth - data.dev$predicted.growth)^2))\n",
    "    rmse[i] = rmse.val\n",
    "    \n",
    "    new.data_dev = data.dev[order(-data.dev$predicted.growth),]\n",
    "    portfolio.data = new.data_dev[1:portfolio_size,]\n",
    "    profit.value = sum((rep(1, portfolio_size) + portfolio.data$growth) * allocation) - budget\n",
    "    profit[i] = profit.value\n",
    "    \n",
    "    profit.rate_value = profit.value / budget\n",
    "    profit_rate[i] = profit.rate_value\n",
    "  }\n",
    "\n",
    "data.frame(fold=1:5, rmse, profit)"
   ]
  },
  {
   "cell_type": "code",
   "execution_count": 11,
   "metadata": {},
   "outputs": [
    {
     "data": {
      "text/html": [
       "<table>\n",
       "<caption><center><font color=\"black\"><b>5-Fold Cross-Validation Estimated Performance</b></font></center></caption>\n",
       " <thead>\n",
       "  <tr>\n",
       "   <th style=\"text-align:right;background-color: #FFFFFF !important;\"> rmse.cv </th>\n",
       "   <th style=\"text-align:right;background-color: #FFFFFF !important;\"> profit.cv </th>\n",
       "   <th style=\"text-align:right;background-color: #FFFFFF !important;\"> profit_rate.cv </th>\n",
       "  </tr>\n",
       " </thead>\n",
       "<tbody>\n",
       "  <tr>\n",
       "   <td style=\"text-align:right;\"> 0.4660607 </td>\n",
       "   <td style=\"text-align:right;\"> -71385.76 </td>\n",
       "   <td style=\"text-align:right;\"> -0.0713858 </td>\n",
       "  </tr>\n",
       "</tbody>\n",
       "</table>"
      ]
     },
     "metadata": {},
     "output_type": "display_data"
    }
   ],
   "source": [
    "# Present the model's 5-fold cross-validation estimated RMSE, profit, and profit rate.\n",
    "rmse.cv = mean(rmse)\n",
    "profit.cv = mean(profit)\n",
    "profit_rate.cv = mean(profit_rate)\n",
    "\n",
    "fmt(data.frame(rmse.cv, profit.cv, profit_rate.cv), \"5-Fold Cross-Validation Estimated Performance\")"
   ]
  },
  {
   "cell_type": "markdown",
   "metadata": {},
   "source": [
    "<font size=1;>\n",
    "<p style=\"text-align: left;\">\n",
    "Copyright (c) Berkeley Data Analytics Group, LLC\n",
    "<span style=\"float: right;\">\n",
    "Document revised June 14, 2020\n",
    "</span>\n",
    "</p>\n",
    "</font>"
   ]
  }
 ],
 "metadata": {
  "hide_code_all_hidden": false,
  "hide_input": false,
  "kernelspec": {
   "display_name": "R",
   "language": "R",
   "name": "ir"
  },
  "language_info": {
   "codemirror_mode": "r",
   "file_extension": ".r",
   "mimetype": "text/x-r-source",
   "name": "R",
   "pygments_lexer": "r",
   "version": "3.6.3"
  },
  "toc": {
   "base_numbering": 1,
   "nav_menu": {},
   "number_sections": true,
   "sideBar": true,
   "skip_h1_title": true,
   "title_cell": "Table of Contents",
   "title_sidebar": "Contents",
   "toc_cell": false,
   "toc_position": {
    "height": "calc(100% - 180px)",
    "left": "10px",
    "top": "150px",
    "width": "256.396px"
   },
   "toc_section_display": true,
   "toc_window_display": true
  }
 },
 "nbformat": 4,
 "nbformat_minor": 2
}
