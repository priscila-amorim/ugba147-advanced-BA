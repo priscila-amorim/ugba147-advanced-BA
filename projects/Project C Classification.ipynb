{
 "cells": [
  {
   "cell_type": "markdown",
   "metadata": {
    "hideCode": false,
    "hidePrompt": false
   },
   "source": [
    "# Project Part C: Classification\n",
    "\n",
    "![](banner_project.jpg)"
   ]
  },
  {
   "cell_type": "code",
   "execution_count": 1,
   "metadata": {},
   "outputs": [],
   "source": [
    "analyst = \"Priscila Carcamo Amorim\" # Replace this with your name"
   ]
  },
  {
   "cell_type": "code",
   "execution_count": 2,
   "metadata": {
    "hide_input": false
   },
   "outputs": [
    {
     "data": {
      "text/html": [
       "<p style=\"text-align:center; font-size:10px;\">\n",
       ".................................................... start of document ....................................................\n",
       "</p>"
      ]
     },
     "metadata": {},
     "output_type": "display_data"
    }
   ],
   "source": [
    "f = \"setup.R\"; for (i in 1:10) { if (file.exists(f)) break else f = paste0(\"../\", f) }; source(f)\n",
    "options(repr.matrix.max.rows=674)\n",
    "options(repr.matrix.max.cols=200)\n",
    "update_geom_defaults(\"point\", list(size=1))                                "
   ]
  },
  {
   "cell_type": "markdown",
   "metadata": {},
   "source": [
    "## Directions"
   ]
  },
  {
   "cell_type": "markdown",
   "metadata": {},
   "source": [
    "### Objective\n",
    "\n",
    "Construct and evaluate a classifier trained on a transformed dataset about public company fundamentals.  Later, use the classifier along with additional analysis to recommend a portfolio of 12 company investments that maximizes 12-month return of an overall \\$1,000,000 investment."
   ]
  },
  {
   "cell_type": "markdown",
   "metadata": {},
   "source": [
    "### Approach\n",
    "\n",
    "Retrieve a transformed dataset.\n",
    "\n",
    "Construct a model to predict whether stock price will grow more than 30% over 12 months, given 12 months of past company fundamentals data, and using a machine learning model construction method and transformed data.\n",
    "\n",
    "Evaluate the model's business performance based on a business model and business parameters."
   ]
  },
  {
   "cell_type": "markdown",
   "metadata": {},
   "source": [
    "## Business Model\n",
    "\n",
    "The business model is ...\n",
    "\n",
    "$ \\begin{align} profit = \\left( \\sum_{i \\in portfolio} (1 + growth_i) \\times allocation_i \\right) - budget \\end{align} $\n",
    "\n",
    "<br>\n",
    "\n",
    "$ profit\\,rate = profit \\div budget $\n",
    "\n",
    "\n",
    "$ \\begin{align} budget = \\sum_{i \\in portfolio} allocation_i \\end{align} $\n",
    "\n",
    "<br>\n",
    "\n",
    "Business model parameters include ...\n",
    "\n",
    "* Budget = \\\\$1,000,000: total investment to allocate across the companies in the portfolio\n",
    "* Portfolio Size = 12: number of companies in the portfolio\n",
    "* Allocations = \\\\$1,000,000 $\\div$ 12 to each company: investments to allocate to specific companies in the portfolio \n",
    "\n",
    "Fill the portfolio with companies with the lowest gvkey values from among those you predict to grow above 30%.  If you predict fewer than the portfolio size to grow above 30%, then fill the rest of the portfolio with the remaining companies with lowest gvkey values."
   ]
  },
  {
   "cell_type": "code",
   "execution_count": 3,
   "metadata": {},
   "outputs": [
    {
     "data": {
      "text/html": [
       "<table><tr><td style=\"background-color:white; vertical-align:top; padding-right:40px;\"><table>\n",
       " <thead>\n",
       "  <tr>\n",
       "   <th style=\"text-align:right;background-color: #FFFFFF !important;\"> budget </th>\n",
       "  </tr>\n",
       " </thead>\n",
       "<tbody>\n",
       "  <tr>\n",
       "   <td style=\"text-align:right;\"> 1000000 </td>\n",
       "  </tr>\n",
       "</tbody>\n",
       "</table></td><td style=\"background-color:white; vertical-align:top; padding-right:40px;\"><table>\n",
       " <thead>\n",
       "  <tr>\n",
       "   <th style=\"text-align:right;background-color: #FFFFFF !important;\"> portfolio_size </th>\n",
       "  </tr>\n",
       " </thead>\n",
       "<tbody>\n",
       "  <tr>\n",
       "   <td style=\"text-align:right;\"> 12 </td>\n",
       "  </tr>\n",
       "</tbody>\n",
       "</table></td><td style=\"background-color:white; vertical-align:top;\"><table>\n",
       " <thead>\n",
       "  <tr>\n",
       "   <th style=\"text-align:right;background-color: #FFFFFF !important;\"> allocation </th>\n",
       "  </tr>\n",
       " </thead>\n",
       "<tbody>\n",
       "  <tr>\n",
       "   <td style=\"text-align:right;\"> 83333.33 </td>\n",
       "  </tr>\n",
       "  <tr>\n",
       "   <td style=\"text-align:right;\"> 83333.33 </td>\n",
       "  </tr>\n",
       "  <tr>\n",
       "   <td style=\"text-align:right;\"> 83333.33 </td>\n",
       "  </tr>\n",
       "  <tr>\n",
       "   <td style=\"text-align:right;\"> 83333.33 </td>\n",
       "  </tr>\n",
       "  <tr>\n",
       "   <td style=\"text-align:right;\"> 83333.33 </td>\n",
       "  </tr>\n",
       "  <tr>\n",
       "   <td style=\"text-align:right;\"> 83333.33 </td>\n",
       "  </tr>\n",
       "  <tr>\n",
       "   <td style=\"text-align:right;\"> 83333.33 </td>\n",
       "  </tr>\n",
       "  <tr>\n",
       "   <td style=\"text-align:right;\"> 83333.33 </td>\n",
       "  </tr>\n",
       "  <tr>\n",
       "   <td style=\"text-align:right;\"> 83333.33 </td>\n",
       "  </tr>\n",
       "  <tr>\n",
       "   <td style=\"text-align:right;\"> 83333.33 </td>\n",
       "  </tr>\n",
       "  <tr>\n",
       "   <td style=\"text-align:right;\"> 83333.33 </td>\n",
       "  </tr>\n",
       "  <tr>\n",
       "   <td style=\"text-align:right;\"> 83333.33 </td>\n",
       "  </tr>\n",
       "</tbody>\n",
       "</table></td></tr></table>"
      ]
     },
     "metadata": {},
     "output_type": "display_data"
    }
   ],
   "source": [
    "# Set the business parameters.\n",
    "\n",
    "budget = 1000000\n",
    "portfolio_size = 12\n",
    "allocation = rep(budget/portfolio_size, portfolio_size)\n",
    "\n",
    "layout(fmt(budget), fmt(portfolio_size), fmt(allocation))"
   ]
  },
  {
   "cell_type": "markdown",
   "metadata": {},
   "source": [
    "## Data\n",
    "\n",
    "_<< Discuss this data retrieval. >>_  \n",
    "  \n",
    "**ANSWER:**  \n",
    "  \n",
    "This data comes from Project Part B. It is the transformed dataset that we stored after selecting certain predictor variables--such as gvkey, tic, conm, and the PCs--and outcome variables, which include prccq, growth, and big_growth. This transformed data set, which has gone through rigorous data cleaning, filtering, and transformation, will be used in the following section for building a classification model."
   ]
  },
  {
   "cell_type": "code",
   "execution_count": 4,
   "metadata": {},
   "outputs": [
    {
     "data": {
      "text/html": [
       "<table>\n",
       "<thead><tr><th scope=col>gvkey</th><th scope=col>tic</th><th scope=col>conm</th><th scope=col>PC1</th><th scope=col>PC2</th><th scope=col>prccq</th><th scope=col>growth</th><th scope=col>big_growth</th></tr></thead>\n",
       "<tbody>\n",
       "\t<tr><td>1004                        </td><td>AIR                         </td><td>AAR CORP                    </td><td>  3.4371231                 </td><td>-0.2260719                  </td><td>43.69                       </td><td> 0.0507455507               </td><td>NO                          </td></tr>\n",
       "\t<tr><td>1045                        </td><td>AAL                         </td><td>AMERICAN AIRLINES GROUP INC </td><td>-12.0332067                 </td><td> 0.8045109                  </td><td>32.11                       </td><td>-0.3828560446               </td><td>NO                          </td></tr>\n",
       "\t<tr><td>1050                        </td><td>CECE                        </td><td>CECO ENVIRONMENTAL CORP     </td><td>  3.9532234                 </td><td>-0.7553386                  </td><td> 6.75                       </td><td> 0.3157894737               </td><td>YES                         </td></tr>\n",
       "\t<tr><td>1062                        </td><td>ASA                         </td><td>ASA GOLD AND PRECIOUS METALS</td><td>  3.6561434                 </td><td>-0.7981915                  </td><td> 8.66                       </td><td>-0.2164739518               </td><td>NO                          </td></tr>\n",
       "\t<tr><td>1072                        </td><td>AVX                         </td><td>AVX CORP                    </td><td>  2.9282228                 </td><td>-0.7104200                  </td><td>15.25                       </td><td>-0.1184971098               </td><td>NO                          </td></tr>\n",
       "\t<tr><td>1075                        </td><td>PNW                         </td><td>PINNACLE WEST CAPITAL CORP  </td><td>  0.3488491                 </td><td> 1.1389605                  </td><td>85.20                       </td><td> 0.0002347969               </td><td>NO                          </td></tr>\n",
       "</tbody>\n",
       "</table>\n"
      ],
      "text/latex": [
       "\\begin{tabular}{r|llllllll}\n",
       " gvkey & tic & conm & PC1 & PC2 & prccq & growth & big\\_growth\\\\\n",
       "\\hline\n",
       "\t 1004                         & AIR                          & AAR CORP                     &   3.4371231                  & -0.2260719                   & 43.69                        &  0.0507455507                & NO                          \\\\\n",
       "\t 1045                         & AAL                          & AMERICAN AIRLINES GROUP INC  & -12.0332067                  &  0.8045109                   & 32.11                        & -0.3828560446                & NO                          \\\\\n",
       "\t 1050                         & CECE                         & CECO ENVIRONMENTAL CORP      &   3.9532234                  & -0.7553386                   &  6.75                        &  0.3157894737                & YES                         \\\\\n",
       "\t 1062                         & ASA                          & ASA GOLD AND PRECIOUS METALS &   3.6561434                  & -0.7981915                   &  8.66                        & -0.2164739518                & NO                          \\\\\n",
       "\t 1072                         & AVX                          & AVX CORP                     &   2.9282228                  & -0.7104200                   & 15.25                        & -0.1184971098                & NO                          \\\\\n",
       "\t 1075                         & PNW                          & PINNACLE WEST CAPITAL CORP   &   0.3488491                  &  1.1389605                   & 85.20                        &  0.0002347969                & NO                          \\\\\n",
       "\\end{tabular}\n"
      ],
      "text/markdown": [
       "\n",
       "| gvkey | tic | conm | PC1 | PC2 | prccq | growth | big_growth |\n",
       "|---|---|---|---|---|---|---|---|\n",
       "| 1004                         | AIR                          | AAR CORP                     |   3.4371231                  | -0.2260719                   | 43.69                        |  0.0507455507                | NO                           |\n",
       "| 1045                         | AAL                          | AMERICAN AIRLINES GROUP INC  | -12.0332067                  |  0.8045109                   | 32.11                        | -0.3828560446                | NO                           |\n",
       "| 1050                         | CECE                         | CECO ENVIRONMENTAL CORP      |   3.9532234                  | -0.7553386                   |  6.75                        |  0.3157894737                | YES                          |\n",
       "| 1062                         | ASA                          | ASA GOLD AND PRECIOUS METALS |   3.6561434                  | -0.7981915                   |  8.66                        | -0.2164739518                | NO                           |\n",
       "| 1072                         | AVX                          | AVX CORP                     |   2.9282228                  | -0.7104200                   | 15.25                        | -0.1184971098                | NO                           |\n",
       "| 1075                         | PNW                          | PINNACLE WEST CAPITAL CORP   |   0.3488491                  |  1.1389605                   | 85.20                        |  0.0002347969                | NO                           |\n",
       "\n"
      ],
      "text/plain": [
       "  gvkey tic  conm                         PC1         PC2        prccq\n",
       "1 1004  AIR  AAR CORP                       3.4371231 -0.2260719 43.69\n",
       "2 1045  AAL  AMERICAN AIRLINES GROUP INC  -12.0332067  0.8045109 32.11\n",
       "3 1050  CECE CECO ENVIRONMENTAL CORP        3.9532234 -0.7553386  6.75\n",
       "4 1062  ASA  ASA GOLD AND PRECIOUS METALS   3.6561434 -0.7981915  8.66\n",
       "5 1072  AVX  AVX CORP                       2.9282228 -0.7104200 15.25\n",
       "6 1075  PNW  PINNACLE WEST CAPITAL CORP     0.3488491  1.1389605 85.20\n",
       "  growth        big_growth\n",
       "1  0.0507455507 NO        \n",
       "2 -0.3828560446 NO        \n",
       "3  0.3157894737 YES       \n",
       "4 -0.2164739518 NO        \n",
       "5 -0.1184971098 NO        \n",
       "6  0.0002347969 NO        "
      ]
     },
     "metadata": {},
     "output_type": "display_data"
    }
   ],
   "source": [
    "# Retrieve \"My Data.csv\"\n",
    "data = read.csv(\"My Data.csv\", header=TRUE)\n",
    "\n",
    "# Present a few rows ...\n",
    "data[1:6,]"
   ]
  },
  {
   "cell_type": "markdown",
   "metadata": {},
   "source": [
    "## Classification Model\n",
    "\n",
    "_<< Discuss this model construction and evaluation. >>_  \n",
    "  \n",
    "**ANSWER:**  \n",
    "  \n",
    "In this entire section, we are using Naive Bayes to construct a classification model using only PC1 and PC2; however, in each part of this section, we are building the model in different ways. In 4.2, we build the model using the entire data set; in other words, the data is not split into partitions at all. With the full data set, we get an accuracy of roughly 31%, a negative profit of about $80,000, thus resulting in a negative profit rate of -0.08.  \n",
    "  \n",
    "In 4.3, we partition the data into training and validation, with 75% of the data devoted for training, and another 25% for validation. With this, we see that there are 3228 observations in the training data, and 1077 observations in the validation set. When we create the Naive Bayes model, we train it using only the training data. We predict with PC1 and PC2 of the validation data, and determine the accuracy by finding the number of \"hits\", or correct predictions, the model has made. In this section, the accuracy is roughly 30%, which is close to the accuracy from section 4.1. The profit in 4.2 is way more negative, with a value of roughly -120,000. Thus, the profit rate is also far lower, with a value of -0.1202019. From this, we can see that Naive Bayes is not doing a good job of classifying the data correctly with just PC1 and PC2. Maybe using the values of PC1 and PC2 are not good predictor values.  \n",
    "  \n",
    "In the final part, which is 4.4, we are using cross validation. We separate the data into 5 folds. For each fold, we separate the training from validation, in which the validation has the fold values from the fold partitions. With each fold, we compute the accuracy, profit, and profit rate as we have done in the previous sections by creating a model for each training data, computing predictions, and determining the values that we are interested in. It is interesting to see that fold 5 is the only fold that saw positive profit, yet fold 2 saw the highest accuracy (with a value of roughly 92%). The overall cross validation accuracy, profit, and profit rate are roughly 42%, -80,000, and -0.08, respectively.  \n",
    "  \n",
    "Thus, overall in this entire analysis with different models, we are seeing negative profit and low accuracy, suggesting that PC1 and PC2 are not good predictor variables for determining whether a company has seen big growth. It is likely that we need to use more variables to correctly predict big growth, and that simply using PC1 and PC2 is not sufficient. "
   ]
  },
  {
   "cell_type": "markdown",
   "metadata": {},
   "source": [
    "### Build Model"
   ]
  },
  {
   "cell_type": "code",
   "execution_count": 5,
   "metadata": {},
   "outputs": [
    {
     "data": {
      "text/plain": [
       "\n",
       "Naive Bayes Classifier for Discrete Predictors\n",
       "\n",
       "Call:\n",
       "naiveBayes.default(x = X, y = Y, laplace = laplace)\n",
       "\n",
       "A-priori probabilities:\n",
       "Y\n",
       "        NO        YES \n",
       "0.91637631 0.08362369 \n",
       "\n",
       "Conditional probabilities:\n",
       "     PC1\n",
       "Y           [,1]      [,2]\n",
       "  NO  -0.2239142 13.299922\n",
       "  YES  2.4537263  4.550796\n",
       "\n",
       "     PC2\n",
       "Y           [,1]     [,2]\n",
       "  NO   0.0424303 7.676443\n",
       "  YES -0.4649654 1.453473\n"
      ]
     },
     "metadata": {},
     "output_type": "display_data"
    }
   ],
   "source": [
    "# Construct a naive Bayes model to predict big_growth given PC1 and PC2 (use laplace=TRUE).\n",
    "# Present a brief summary of the model parameters.\n",
    "model = naiveBayes(big_growth ~ PC1+PC2, data, laplace=TRUE)\n",
    "model"
   ]
  },
  {
   "cell_type": "markdown",
   "metadata": {},
   "source": [
    "### In-Sample Estimated Performance"
   ]
  },
  {
   "cell_type": "code",
   "execution_count": 6,
   "metadata": {},
   "outputs": [
    {
     "data": {
      "text/html": [
       "<table>\n",
       "<caption><center><font color=\"black\"><b>In-Sample Estimated Performance</b></font></center></caption>\n",
       " <thead>\n",
       "  <tr>\n",
       "   <th style=\"text-align:right;background-color: #FFFFFF !important;\"> accuracy </th>\n",
       "   <th style=\"text-align:right;background-color: #FFFFFF !important;\"> profit </th>\n",
       "   <th style=\"text-align:right;background-color: #FFFFFF !important;\"> profit_rate </th>\n",
       "  </tr>\n",
       " </thead>\n",
       "<tbody>\n",
       "  <tr>\n",
       "   <td style=\"text-align:right;\"> 0.3082462 </td>\n",
       "   <td style=\"text-align:right;\"> -80393.21 </td>\n",
       "   <td style=\"text-align:right;\"> -0.0803932 </td>\n",
       "  </tr>\n",
       "</tbody>\n",
       "</table>"
      ]
     },
     "metadata": {},
     "output_type": "display_data"
    }
   ],
   "source": [
    "# Present the model's in-sample estimated accuracy, profit, and profit rate at cutoff=0.5.\n",
    "new.data = data[,colnames(data)!=\"big_growth\"]\n",
    "predictions = predict(model, new.data)\n",
    "new.data$big_growth.predicted = predictions\n",
    "\n",
    "cm = confusionMatrix(new.data$big_growth.predicted, data$big_growth, positive=\"YES\")$table\n",
    "cm = cm / sum(cm)\n",
    "\n",
    "accuracy = (cm[1,1] + cm[2,2]) / sum(cm)\n",
    "\n",
    "new.data = new.data[order(factor(new.data$big_growth.predicted, c(\"YES\", \"NO\")), new.data$gvkey),]\n",
    "portfolio.data = new.data[1:portfolio_size,]\n",
    "profit = sum((rep(1, portfolio_size) + portfolio.data$growth) * allocation) - budget\n",
    "profit_rate = profit / budget\n",
    "\n",
    "df.4_2 = data.frame(accuracy, profit, profit_rate)\n",
    "fmt(df.4_2, \"In-Sample Estimated Performance\")"
   ]
  },
  {
   "cell_type": "markdown",
   "metadata": {},
   "source": [
    "### Out-of-Sample Estimated Performance"
   ]
  },
  {
   "cell_type": "code",
   "execution_count": 7,
   "metadata": {},
   "outputs": [
    {
     "data": {
      "text/html": [
       "<table><tr><td style=\"background-color:white; vertical-align:top; padding-right:40px;\"><table>\n",
       "<caption><center><font color=\"black\"><b>size(data.train)</b></font></center></caption>\n",
       " <thead>\n",
       "  <tr>\n",
       "   <th style=\"text-align:right;background-color: #FFFFFF !important;\"> observations </th>\n",
       "   <th style=\"text-align:right;background-color: #FFFFFF !important;\"> variables </th>\n",
       "  </tr>\n",
       " </thead>\n",
       "<tbody>\n",
       "  <tr>\n",
       "   <td style=\"text-align:right;\"> 3228 </td>\n",
       "   <td style=\"text-align:right;\"> 8 </td>\n",
       "  </tr>\n",
       "</tbody>\n",
       "</table></td><td style=\"background-color:white; vertical-align:top;\"><table>\n",
       "<caption><center><font color=\"black\"><b>size(data.dev)</b></font></center></caption>\n",
       " <thead>\n",
       "  <tr>\n",
       "   <th style=\"text-align:right;background-color: #FFFFFF !important;\"> observations </th>\n",
       "   <th style=\"text-align:right;background-color: #FFFFFF !important;\"> variables </th>\n",
       "  </tr>\n",
       " </thead>\n",
       "<tbody>\n",
       "  <tr>\n",
       "   <td style=\"text-align:right;\"> 1077 </td>\n",
       "   <td style=\"text-align:right;\"> 8 </td>\n",
       "  </tr>\n",
       "</tbody>\n",
       "</table></td></tr></table>"
      ]
     },
     "metadata": {},
     "output_type": "display_data"
    }
   ],
   "source": [
    "# Partition the data into training (75%) and validation (25%)\n",
    "# (use set.seed(0) and sample(...) to choose training observations).\n",
    "# How many observations and variables in the training data?\n",
    "# How many observations and variables in the validation data?\n",
    "\n",
    "set.seed(0)\n",
    "train = sample(1:nrow(data), 0.75*nrow(data))\n",
    "dev = setdiff(1:nrow(data), train)\n",
    "\n",
    "data.train = data[train,]\n",
    "data.dev = data[dev,]\n",
    "\n",
    "layout(fmt(size(data.train)), fmt(size(data.dev)))"
   ]
  },
  {
   "cell_type": "code",
   "execution_count": 8,
   "metadata": {},
   "outputs": [
    {
     "data": {
      "text/html": [
       "<table>\n",
       "<caption><center><font color=\"black\"><b>Out-of-Sample Estimated Performance</b></font></center></caption>\n",
       " <thead>\n",
       "  <tr>\n",
       "   <th style=\"text-align:right;background-color: #FFFFFF !important;\"> accuracy </th>\n",
       "   <th style=\"text-align:right;background-color: #FFFFFF !important;\"> profit </th>\n",
       "   <th style=\"text-align:right;background-color: #FFFFFF !important;\"> profit_rate </th>\n",
       "  </tr>\n",
       " </thead>\n",
       "<tbody>\n",
       "  <tr>\n",
       "   <td style=\"text-align:right;\"> 0.2989786 </td>\n",
       "   <td style=\"text-align:right;\"> -120201.9 </td>\n",
       "   <td style=\"text-align:right;\"> -0.1202019 </td>\n",
       "  </tr>\n",
       "</tbody>\n",
       "</table>"
      ]
     },
     "metadata": {},
     "output_type": "display_data"
    }
   ],
   "source": [
    "# Present the model's out-of-sample estimated accuracy, profit, and profit rate at cutoff=0.5.\n",
    "model = naiveBayes(big_growth ~ PC1+PC2, data.train, laplace=TRUE)\n",
    "\n",
    "new.data_dev = data.dev[,colnames(data.dev)!=\"big_growth\"]\n",
    "predictions = predict(model, new.data_dev)\n",
    "new.data_dev$big_growth.predicted = predictions\n",
    "\n",
    "cm = confusionMatrix(new.data_dev$big_growth.predicted, data.dev$big_growth, positive=\"YES\")$table\n",
    "cm = cm / sum(cm)\n",
    "\n",
    "accuracy = (cm[1,1] + cm[2,2]) / sum(cm)\n",
    "\n",
    "new.data_dev = new.data_dev[order(factor(new.data_dev$big_growth.predicted, c(\"YES\", \"NO\")), new.data_dev$gvkey),]\n",
    "portfolio.data = new.data_dev[1:portfolio_size,]\n",
    "profit = sum((rep(1, portfolio_size) + portfolio.data$growth) * allocation) - budget\n",
    "profit_rate = profit / budget\n",
    "\n",
    "df.4_2 = data.frame(accuracy, profit, profit_rate)\n",
    "fmt(df.4_2, \"Out-of-Sample Estimated Performance\")"
   ]
  },
  {
   "cell_type": "markdown",
   "metadata": {},
   "source": [
    "### 5-Fold Cross-Validation Estimated Performance"
   ]
  },
  {
   "cell_type": "code",
   "execution_count": 9,
   "metadata": {},
   "outputs": [
    {
     "name": "stdout",
     "output_type": "stream",
     "text": [
      "List of 5\n",
      " $ Fold1: int [1:861] 9 13 17 19 31 42 44 54 60 66 ...\n",
      " $ Fold2: int [1:861] 1 2 6 11 16 25 32 49 55 59 ...\n",
      " $ Fold3: int [1:861] 4 8 14 22 28 34 40 45 50 52 ...\n",
      " $ Fold4: int [1:861] 3 5 15 18 21 24 26 27 30 36 ...\n",
      " $ Fold5: int [1:861] 7 10 12 20 23 29 33 35 37 46 ...\n"
     ]
    }
   ],
   "source": [
    "# Partition the data into 5 folds (use set.seed(0) and createFolds(...)).\n",
    "# Present the first few observation (row) numbers for each of the folds.\n",
    "#\n",
    "# You can use the str() function.\n",
    "set.seed(0)\n",
    "fold = createFolds(data$big_growth, k=5)\n",
    "str(fold)"
   ]
  },
  {
   "cell_type": "code",
   "execution_count": 10,
   "metadata": {},
   "outputs": [
    {
     "data": {
      "text/html": [
       "<table>\n",
       "<thead><tr><th scope=col>fold</th><th scope=col>accuracy</th><th scope=col>profit</th></tr></thead>\n",
       "<tbody>\n",
       "\t<tr><td>1         </td><td>0.3042973 </td><td>-221281.10</td></tr>\n",
       "\t<tr><td>2         </td><td>0.9163763 </td><td> -90115.24</td></tr>\n",
       "\t<tr><td>3         </td><td>0.2659698 </td><td> -28710.93</td></tr>\n",
       "\t<tr><td>4         </td><td>0.2950058 </td><td> -89837.99</td></tr>\n",
       "\t<tr><td>5         </td><td>0.3066202 </td><td>  31939.77</td></tr>\n",
       "</tbody>\n",
       "</table>\n"
      ],
      "text/latex": [
       "\\begin{tabular}{r|lll}\n",
       " fold & accuracy & profit\\\\\n",
       "\\hline\n",
       "\t 1          & 0.3042973  & -221281.10\\\\\n",
       "\t 2          & 0.9163763  &  -90115.24\\\\\n",
       "\t 3          & 0.2659698  &  -28710.93\\\\\n",
       "\t 4          & 0.2950058  &  -89837.99\\\\\n",
       "\t 5          & 0.3066202  &   31939.77\\\\\n",
       "\\end{tabular}\n"
      ],
      "text/markdown": [
       "\n",
       "| fold | accuracy | profit |\n",
       "|---|---|---|\n",
       "| 1          | 0.3042973  | -221281.10 |\n",
       "| 2          | 0.9163763  |  -90115.24 |\n",
       "| 3          | 0.2659698  |  -28710.93 |\n",
       "| 4          | 0.2950058  |  -89837.99 |\n",
       "| 5          | 0.3066202  |   31939.77 |\n",
       "\n"
      ],
      "text/plain": [
       "  fold accuracy  profit    \n",
       "1 1    0.3042973 -221281.10\n",
       "2 2    0.9163763  -90115.24\n",
       "3 3    0.2659698  -28710.93\n",
       "4 4    0.2950058  -89837.99\n",
       "5 5    0.3066202   31939.77"
      ]
     },
     "metadata": {},
     "output_type": "display_data"
    }
   ],
   "source": [
    "# Present the model's estimated accuracy and profit at cutoff=0.5 for each fold.\n",
    "accuracy = c(NA, NA, NA, NA, NA)\n",
    "profit = c(NA, NA, NA, NA, NA)\n",
    "profit_rate = c(NA, NA, NA, NA, NA)\n",
    "\n",
    "for (i in 1:5) { \n",
    "    data.train = data[setdiff(1:nrow(data), fold[[i]]),]\n",
    "    data.dev = data[fold[[i]],]\n",
    "\n",
    "    model = naiveBayes(big_growth ~ PC1+PC2, data.train)\n",
    "    big_growth.predicted = predict(model, data.dev)\n",
    "   \n",
    "    CM = confusionMatrix(big_growth.predicted, data.dev$big_growth)$table\n",
    "    cm = CM / sum(CM)\n",
    "    accuracy[i] = cm[1,1]+cm[2,2]\n",
    "    \n",
    "    new.data_dev = data.dev[,colnames(data.dev)!=\"big_growth\"]\n",
    "    new.data_dev$big_growth.predicted = big_growth.predicted\n",
    "    new.data_dev = new.data_dev[order(factor(new.data_dev$big_growth.predicted, c(\"YES\", \"NO\")), \n",
    "                                      new.data_dev$gvkey),]\n",
    "    portfolio.data = new.data_dev[1:portfolio_size,]\n",
    "    profit.value = sum((rep(1, portfolio_size) + portfolio.data$growth) * allocation) - budget\n",
    "    profit[i] = profit.value\n",
    "    \n",
    "    profit.rate_value = profit.value / budget\n",
    "    profit_rate[i] = profit.rate_value\n",
    "  }\n",
    "\n",
    "data.frame(fold=1:5, accuracy, profit)"
   ]
  },
  {
   "cell_type": "code",
   "execution_count": 11,
   "metadata": {},
   "outputs": [
    {
     "data": {
      "text/html": [
       "<table>\n",
       "<caption><center><font color=\"black\"><b>5-Fold Cross-Validation Estimated Performance</b></font></center></caption>\n",
       " <thead>\n",
       "  <tr>\n",
       "   <th style=\"text-align:right;background-color: #FFFFFF !important;\"> accuracy.cv </th>\n",
       "   <th style=\"text-align:right;background-color: #FFFFFF !important;\"> profit.cv </th>\n",
       "   <th style=\"text-align:right;background-color: #FFFFFF !important;\"> profit_rate.cv </th>\n",
       "  </tr>\n",
       " </thead>\n",
       "<tbody>\n",
       "  <tr>\n",
       "   <td style=\"text-align:right;\"> 0.4176539 </td>\n",
       "   <td style=\"text-align:right;\"> -79601.1 </td>\n",
       "   <td style=\"text-align:right;\"> -0.0796011 </td>\n",
       "  </tr>\n",
       "</tbody>\n",
       "</table>"
      ]
     },
     "metadata": {},
     "output_type": "display_data"
    }
   ],
   "source": [
    "# Present the model's 5-fold cross-validation estimated accuracy, profit, and profit rate at cutoff=0.5\n",
    "accuracy.cv = mean(accuracy)\n",
    "profit.cv = mean(profit)\n",
    "profit_rate.cv = mean(profit_rate)\n",
    "\n",
    "fmt(data.frame(accuracy.cv, profit.cv, profit_rate.cv), \"5-Fold Cross-Validation Estimated Performance\")"
   ]
  },
  {
   "cell_type": "markdown",
   "metadata": {},
   "source": [
    "<font size=1;>\n",
    "<p style=\"text-align: left;\">\n",
    "Copyright (c) Berkeley Data Analytics Group, LLC\n",
    "<span style=\"float: right;\">\n",
    "Document revised June 9, 2020\n",
    "</span>\n",
    "</p>\n",
    "</font>"
   ]
  }
 ],
 "metadata": {
  "hide_code_all_hidden": false,
  "hide_input": false,
  "kernelspec": {
   "display_name": "R",
   "language": "R",
   "name": "ir"
  },
  "language_info": {
   "codemirror_mode": "r",
   "file_extension": ".r",
   "mimetype": "text/x-r-source",
   "name": "R",
   "pygments_lexer": "r",
   "version": "3.6.3"
  },
  "toc": {
   "base_numbering": 1,
   "nav_menu": {},
   "number_sections": true,
   "sideBar": true,
   "skip_h1_title": true,
   "title_cell": "Table of Contents",
   "title_sidebar": "Contents",
   "toc_cell": false,
   "toc_position": {
    "height": "calc(100% - 180px)",
    "left": "10px",
    "top": "150px",
    "width": "256.396px"
   },
   "toc_section_display": true,
   "toc_window_display": true
  }
 },
 "nbformat": 4,
 "nbformat_minor": 2
}
